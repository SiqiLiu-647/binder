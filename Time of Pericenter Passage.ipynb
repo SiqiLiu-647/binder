{
 "cells": [
  {
   "cell_type": "code",
   "execution_count": 1,
   "metadata": {
    "collapsed": true
   },
   "outputs": [],
   "source": [
    "import rebound\n",
    "sim = rebound.Simulation()"
   ]
  },
  {
   "cell_type": "markdown",
   "metadata": {},
   "source": [
    "The first thing to do is set the units, which has to be consistent throughout.  For example, we might use units of "
   ]
  },
  {
   "cell_type": "code",
   "execution_count": 2,
   "metadata": {
    "collapsed": true
   },
   "outputs": [],
   "source": [
    "sim.units = ('AU', 'yr', 'Msun')"
   ]
  },
  {
   "cell_type": "markdown",
   "metadata": {},
   "source": [
    "The next two lines add the Sun and Jupiter where they are right now, using JPL HORIZONS.  See the Horizons ipython_example at for how this works, or the OrbitalElements ipython_example for other ways of adding particles.  Querying JPL is slow, so you wouldn't want to use it for a million orbits, but you could save a binary file with all the giant planets that you load for each comet (see Checkpoints example)."
   ]
  },
  {
   "cell_type": "code",
   "execution_count": 3,
   "metadata": {
    "collapsed": false
   },
   "outputs": [
    {
     "name": "stdout",
     "output_type": "stream",
     "text": [
      "Searching NASA Horizons for 'Sun'... Found: Sun (10).\n",
      "Searching NASA Horizons for 'Jupiter'... Found: Jupiter Barycenter (5).\n"
     ]
    }
   ],
   "source": [
    "sim.add(\"Sun\")\n",
    "sim.add(\"Jupiter\")"
   ]
  },
  {
   "cell_type": "markdown",
   "metadata": {
    "collapsed": true
   },
   "source": [
    "If you have a time of pericenter passage in time since J2000, you’ll have to set the simulation time since J2000 corresponding to the time for the initial conditions, e.g.,"
   ]
  },
  {
   "cell_type": "code",
   "execution_count": 4,
   "metadata": {
    "collapsed": false
   },
   "outputs": [
    {
     "name": "stdout",
     "output_type": "stream",
     "text": [
      "16.10864834461429\n"
     ]
    }
   ],
   "source": [
    "secondsPerYear = 365.25*24*3600\n",
    "sim.t = 508350281/secondsPerYear\n",
    "print(sim.t)"
   ]
  },
  {
   "cell_type": "markdown",
   "metadata": {},
   "source": [
    "Now we add the comet, passing the time of pericenter passage T.  By default, REBOUND adds particles using jacobi coordinates.  I *think* most comet orbital elements are heliocentric.  If so, you need to specify that the primary should be the Sun:"
   ]
  },
  {
   "cell_type": "code",
   "execution_count": 5,
   "metadata": {
    "collapsed": false
   },
   "outputs": [
    {
     "name": "stdout",
     "output_type": "stream",
     "text": [
      "Orbital elements = <rebound.Orbit instance, a=-1.1999999999999997 e=1.4999999999999927 inc=0.0 Omega=0.0 omega=0.0 f=2.2908823572485613>\n",
      "Comet's time of pericenter passage = -7.200000000000816\n"
     ]
    }
   ],
   "source": [
    "TperiPassage = -227214720/secondsPerYear\n",
    "sim.add(m=0.,a=-1.2, e=1.5, T=TperiPassage, primary=sim.particles[0])\n",
    "comet = sim.particles[2]\n",
    "orbit = comet.calculate_orbit(primary=sim.particles[0]) # get heliocentric elements\n",
    "print(\"Orbital elements = {0}\".format(orbit))\n",
    "print(\"Comet's time of pericenter passage = {0}\".format(orbit.T))"
   ]
  },
  {
   "cell_type": "markdown",
   "metadata": {},
   "source": [
    "Now we just integrate until whatever final time we’re interested in:"
   ]
  },
  {
   "cell_type": "code",
   "execution_count": 6,
   "metadata": {
    "collapsed": false
   },
   "outputs": [
    {
     "name": "stdout",
     "output_type": "stream",
     "text": [
      "Orbital elements = <rebound.Orbit instance, a=-1.20033126838379 e=1.556865870690109 inc=0.00038584341938550053 Omega=-0.8522015649567123 omega=0.8842757469039412 f=-4.017174545728483>\n",
      "Comet's time of pericenter passage = -7.241666983836424\n"
     ]
    }
   ],
   "source": [
    "tfinal = 100. # i.e., the year 2100 \n",
    "sim.integrate(tfinal)\n",
    "orbit = comet.calculate_orbit(primary=sim.particles[0]) # get heliocentric elements\n",
    "print(\"Orbital elements = {0}\".format(orbit))\n",
    "print(\"Comet's time of pericenter passage = {0}\".format(orbit.T))"
   ]
  },
  {
   "cell_type": "markdown",
   "metadata": {},
   "source": [
    "The osculating elements change slightly because of Jupiter's presence.  You can see other ipython_examples in the documentation for different ways of doing output."
   ]
  },
  {
   "cell_type": "code",
   "execution_count": null,
   "metadata": {
    "collapsed": true
   },
   "outputs": [],
   "source": []
  }
 ],
 "metadata": {
  "kernelspec": {
   "display_name": "Python 3",
   "language": "python",
   "name": "python3"
  },
  "language_info": {
   "codemirror_mode": {
    "name": "ipython",
    "version": 3
   },
   "file_extension": ".py",
   "mimetype": "text/x-python",
   "name": "python",
   "nbconvert_exporter": "python",
   "pygments_lexer": "ipython3",
   "version": "3.5.1"
  }
 },
 "nbformat": 4,
 "nbformat_minor": 0
}
