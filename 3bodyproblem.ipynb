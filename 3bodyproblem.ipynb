{
 "cells": [
  {
   "cell_type": "code",
   "execution_count": 1,
   "metadata": {
    "collapsed": true
   },
   "outputs": [],
   "source": [
    "%matplotlib inline\n",
    "import rebound\n",
    "import numpy as np\n",
    "import matplotlib.pyplot as plt\n",
    "from ipywidgets import interact"
   ]
  },
  {
   "cell_type": "code",
   "execution_count": 2,
   "metadata": {
    "collapsed": true
   },
   "outputs": [],
   "source": [
    "m=3.\n",
    "sim = rebound.Simulation()\n",
    "sim.add(m=3.)\n",
    "sim.add(m=1.e-3, P=2.)\n",
    "sim.add(m=1.e-6, P=(m+1)/m*2.)\n",
    "sim.move_to_com()\n",
    "ps = sim.particles"
   ]
  },
  {
   "cell_type": "code",
   "execution_count": 23,
   "metadata": {
    "collapsed": false
   },
   "outputs": [
    {
     "ename": "NameError",
     "evalue": "name 'mres' is not defined",
     "output_type": "error",
     "traceback": [
      "\u001b[0;31m---------------------------------------------------------------------------\u001b[0m",
      "\u001b[0;31mNameError\u001b[0m                                 Traceback (most recent call last)",
      "\u001b[0;32m<ipython-input-23-d002651d7d46>\u001b[0m in \u001b[0;36m<module>\u001b[0;34m()\u001b[0m\n\u001b[1;32m     21\u001b[0m \u001b[0mrebound\u001b[0m\u001b[0;34m.\u001b[0m\u001b[0mParticle\u001b[0m\u001b[0;34m.\u001b[0m\u001b[0mLambda\u001b[0m \u001b[0;34m=\u001b[0m \u001b[0mproperty\u001b[0m\u001b[0;34m(\u001b[0m\u001b[0mLambda\u001b[0m\u001b[0;34m)\u001b[0m\u001b[0;34m\u001b[0m\u001b[0m\n\u001b[1;32m     22\u001b[0m \u001b[0mrebound\u001b[0m\u001b[0;34m.\u001b[0m\u001b[0mParticle\u001b[0m\u001b[0;34m.\u001b[0m\u001b[0mGamma\u001b[0m \u001b[0;34m=\u001b[0m \u001b[0mproperty\u001b[0m\u001b[0;34m(\u001b[0m\u001b[0mGamma\u001b[0m\u001b[0;34m)\u001b[0m\u001b[0;34m\u001b[0m\u001b[0m\n\u001b[0;32m---> 23\u001b[0;31m \u001b[0mrebound\u001b[0m\u001b[0;34m.\u001b[0m\u001b[0mParticle\u001b[0m\u001b[0;34m.\u001b[0m\u001b[0mmres\u001b[0m \u001b[0;34m=\u001b[0m \u001b[0mproperty\u001b[0m\u001b[0;34m(\u001b[0m\u001b[0mmres\u001b[0m\u001b[0;34m)\u001b[0m\u001b[0;34m\u001b[0m\u001b[0m\n\u001b[0m",
      "\u001b[0;31mNameError\u001b[0m: name 'mres' is not defined"
     ]
    }
   ],
   "source": [
    "def mjac(self):\n",
    "    Mint = 0\n",
    "    for i in range(self.index):\n",
    "        Mint += self._sim.contents.particles[i].m\n",
    "    return Mint*self.m/(Mint+self.m)\n",
    "\n",
    "def Mjac(self):\n",
    "    Mint = 0\n",
    "    for i in range(self.index):\n",
    "        Mint += self._sim.contents.particles[i].m\n",
    "    return (Mint+self.m)/Mint*self._sim.contents.particles[0].m\n",
    "\n",
    "def Lambda(self):\n",
    "    return self.mjac*np.sqrt(self._sim.contents.G*self.Mjac*self.a)\n",
    "\n",
    "def Gamma(self):\n",
    "    return self.Lambda*(1.-np.sqrt(1.-self.e**2))\n",
    "\n",
    "rebound.Particle.mjac = property(mjac)\n",
    "rebound.Particle.Mjac = property(Mjac)\n",
    "rebound.Particle.Lambda = property(Lambda)\n",
    "rebound.Particle.Gamma = property(Gamma)"
   ]
  },
  {
   "cell_type": "code",
   "execution_count": 13,
   "metadata": {
    "collapsed": true
   },
   "outputs": [],
   "source": []
  },
  {
   "cell_type": "code",
   "execution_count": null,
   "metadata": {
    "collapsed": true
   },
   "outputs": [],
   "source": []
  }
 ],
 "metadata": {
  "kernelspec": {
   "display_name": "Python 3",
   "language": "python",
   "name": "python3"
  },
  "language_info": {
   "codemirror_mode": {
    "name": "ipython",
    "version": 3
   },
   "file_extension": ".py",
   "mimetype": "text/x-python",
   "name": "python",
   "nbconvert_exporter": "python",
   "pygments_lexer": "ipython3",
   "version": "3.5.1"
  }
 },
 "nbformat": 4,
 "nbformat_minor": 0
}
