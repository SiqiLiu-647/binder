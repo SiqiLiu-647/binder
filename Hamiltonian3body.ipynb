{
 "cells": [
  {
   "cell_type": "code",
   "execution_count": 1,
   "metadata": {
    "collapsed": false
   },
   "outputs": [],
   "source": [
    "from sympy import Symbol, diff, lambdify, symbols, sqrt, cos\n",
    "import numpy as np\n",
    "from sympy import init_printing\n",
    "init_printing()"
   ]
  },
  {
   "cell_type": "code",
   "execution_count": 2,
   "metadata": {
    "collapsed": true
   },
   "outputs": [],
   "source": [
    "m = Symbol('m')\n",
    "k = Symbol('k')\n",
    "q = Symbol('q')\n",
    "p = Symbol('p')\n",
    "H = p**2/(2.*m) + 0.5*k*q**2"
   ]
  },
  {
   "cell_type": "code",
   "execution_count": 3,
   "metadata": {
    "collapsed": false
   },
   "outputs": [],
   "source": [
    "qdot = lambdify((q,p,m,k), diff(H, p), 'numpy')"
   ]
  },
  {
   "cell_type": "code",
   "execution_count": 4,
   "metadata": {
    "collapsed": false
   },
   "outputs": [],
   "source": [
    "pdot = lambdify((q,p,m,k), -diff(H, q), 'numpy')"
   ]
  },
  {
   "cell_type": "code",
   "execution_count": 5,
   "metadata": {
    "collapsed": false
   },
   "outputs": [],
   "source": [
    "def diffeq(y, t, m,k):\n",
    "    q,p = y\n",
    "    dydt = [qdot(q,p,m,k), pdot(q,p,m,k)]\n",
    "    return dydt"
   ]
  },
  {
   "cell_type": "code",
   "execution_count": 6,
   "metadata": {
    "collapsed": false
   },
   "outputs": [],
   "source": [
    "y0 = [1,0]"
   ]
  },
  {
   "cell_type": "code",
   "execution_count": 7,
   "metadata": {
    "collapsed": false
   },
   "outputs": [],
   "source": [
    "t = np.linspace(0,10, 100)"
   ]
  },
  {
   "cell_type": "code",
   "execution_count": 8,
   "metadata": {
    "collapsed": false
   },
   "outputs": [],
   "source": [
    "from scipy.integrate import odeint\n",
    "m=1.\n",
    "k=0.5\n",
    "a = (m,k)\n",
    "sol = odeint(diffeq, y0, t, args=(m,k))"
   ]
  },
  {
   "cell_type": "code",
   "execution_count": 9,
   "metadata": {
    "collapsed": false
   },
   "outputs": [
    {
     "data": {
      "text/plain": [
       "[<matplotlib.lines.Line2D at 0x10df519e8>]"
      ]
     },
     "execution_count": 9,
     "metadata": {},
     "output_type": "execute_result"
    },
    {
     "data": {
      "image/png": "[encoded data removed]",
      "text/plain": [
       "<matplotlib.figure.Figure at 0x10da37f28>"
      ]
     },
     "metadata": {},
     "output_type": "display_data"
    }
   ],
   "source": [
    "%matplotlib inline\n",
    "import matplotlib.pyplot as plt\n",
    "plt.plot(t, sol[:,0])\n",
    "plt.plot(t, sol[:,1])"
   ]
  },
  {
   "cell_type": "code",
   "execution_count": 10,
   "metadata": {
    "collapsed": false
   },
   "outputs": [],
   "source": [
    "m, m1, M1, mu1, mu2, Lambda1, Lambda2, lambda1, lambda2, P1, P2, p1, p2, alpha = symbols(\"m, m1, M1, mu1, mu2, Lambda1, Lambda2, lambda1, lambda2, P1, P2, p1, p2, alpha\")"
   ]
  },
  {
   "cell_type": "code",
   "execution_count": 11,
   "metadata": {
    "collapsed": true
   },
   "outputs": [],
   "source": [
    "f27 = -0.46 - 0.802*m\n",
    "f31 = 0.87 + 0.802*m"
   ]
  },
  {
   "cell_type": "code",
   "execution_count": 12,
   "metadata": {
    "collapsed": false
   },
   "outputs": [],
   "source": [
    "H = -mu1/(2.*Lambda1**2) - mu2/(2.*Lambda2**2) - m1/M1*mu2/Lambda2**2*(f27*sqrt(2.*P1/Lambda1)*cos((m+1)*lambda2 - m*lambda1 + p1) + f31*sqrt(2.*P2/Lambda2)*cos((m+1)*lambda2 - m*lambda1 + p2))"
   ]
  },
  {
   "cell_type": "code",
   "execution_count": 13,
   "metadata": {
    "collapsed": true
   },
   "outputs": [],
   "source": [
    "J1, J2, Gamma1, Gamma2, phi1, phi2 = symbols(\"J1, J2, Gamma1, Gamma2, phi1, phi2\")"
   ]
  },
  {
   "cell_type": "code",
   "execution_count": 14,
   "metadata": {
    "collapsed": false
   },
   "outputs": [
    {
     "data": {
      "image/png": "[encoded data removed]",
      "text/latex": [
       "$$- \\frac{0.5 \\mu_{2}}{\\Lambda_{2}^{2}} - \\frac{m_{1} \\mu_{2}}{\\Lambda_{2}^{2} M_{1}} \\left(1.4142135623731 \\sqrt{\\frac{P_{1}}{\\Lambda_{1}}} \\left(- 0.802 m - 0.46\\right) \\cos{\\left (- \\lambda_{1} m + \\lambda_{2} \\left(m + 1\\right) + p_{1} \\right )} + 1.4142135623731 \\sqrt{\\frac{P_{2}}{\\Lambda_{2}}} \\left(0.802 m + 0.87\\right) \\cos{\\left (- \\lambda_{1} m + \\lambda_{2} \\left(m + 1\\right) + p_{2} \\right )}\\right) - \\frac{0.5 \\mu_{1}}{\\Lambda_{1}^{2}}$$"
      ],
      "text/plain": [
       "                 ⎛                    ____                                    \n",
       "                 ⎜                   ╱ P₁                                     \n",
       "           m₁⋅μ₂⋅⎜1.4142135623731⋅  ╱  ── ⋅(-0.802⋅m - 0.46)⋅cos(-λ₁⋅m + λ₂⋅(m\n",
       "  0.5⋅μ₂         ⎝                ╲╱   Λ₁                                     \n",
       "- ────── - ───────────────────────────────────────────────────────────────────\n",
       "     2                                                                        \n",
       "   Λ₂                                                                         \n",
       "\n",
       "                                  ____                                        \n",
       "                                 ╱ P₂                                         \n",
       " + 1) + p₁) + 1.4142135623731⋅  ╱  ── ⋅(0.802⋅m + 0.87)⋅cos(-λ₁⋅m + λ₂⋅(m + 1)\n",
       "                              ╲╱   Λ₂                                         \n",
       "──────────────────────────────────────────────────────────────────────────────\n",
       "        2                                                                     \n",
       "      Λ₂ ⋅M₁                                                                  \n",
       "\n",
       "      ⎞         \n",
       "      ⎟         \n",
       " + p₂)⎟         \n",
       "      ⎠   0.5⋅μ₁\n",
       "─────── - ──────\n",
       "             2  \n",
       "           Λ₁   "
      ]
     },
     "execution_count": 14,
     "metadata": {},
     "output_type": "execute_result"
    }
   ],
   "source": [
    "H"
   ]
  },
  {
   "cell_type": "code",
   "execution_count": 15,
   "metadata": {
    "collapsed": false
   },
   "outputs": [],
   "source": [
    "H2 = H\n",
    "H2 = H2.subs(P1, Gamma1)\n",
    "H2 = H2.subs(P2, Gamma2)\n",
    "H2 = H2.subs((m+1)*lambda2 - m*lambda1 + p1, phi1)\n",
    "H2 = H2.subs((m+1)*lambda2 - m*lambda1 + p2, phi2)\n",
    "H2 = H2.subs(Lambda1, J1 - m*(Gamma1 + Gamma2))\n",
    "H2 = H2.subs(Lambda2, J2 + (m+1)*(Gamma1 + Gamma2))"
   ]
  },
  {
   "cell_type": "code",
   "execution_count": 16,
   "metadata": {
    "collapsed": false
   },
   "outputs": [
    {
     "data": {
      "image/png": "[encoded data removed]",
      "text/latex": [
       "$$- \\frac{0.5 \\mu_{1}}{\\left(J_{1} - m \\left(\\Gamma_{1} + \\Gamma_{2}\\right)\\right)^{2}} - \\frac{0.5 \\mu_{2}}{\\left(J_{2} + \\left(\\Gamma_{1} + \\Gamma_{2}\\right) \\left(m + 1\\right)\\right)^{2}} - \\frac{m_{1} \\mu_{2}}{M_{1} \\left(J_{2} + \\left(\\Gamma_{1} + \\Gamma_{2}\\right) \\left(m + 1\\right)\\right)^{2}} \\left(1.4142135623731 \\sqrt{\\frac{\\Gamma_{1}}{J_{1} - m \\left(\\Gamma_{1} + \\Gamma_{2}\\right)}} \\left(- 0.802 m - 0.46\\right) \\cos{\\left (\\phi_{1} \\right )} + 1.4142135623731 \\sqrt{\\frac{\\Gamma_{2}}{J_{2} + \\left(\\Gamma_{1} + \\Gamma_{2}\\right) \\left(m + 1\\right)}} \\left(0.802 m + 0.87\\right) \\cos{\\left (\\phi_{2} \\right )}\\right)$$"
      ],
      "text/plain": [
       "                                                          ⎛                   \n",
       "                                                          ⎜                   \n",
       "                                                    m₁⋅μ₂⋅⎜1.4142135623731⋅  ╱\n",
       "         0.5⋅μ₁                   0.5⋅μ₂                  ⎝                ╲╱ \n",
       "- ─────────────────── - ───────────────────────── - ──────────────────────────\n",
       "                    2                           2                             \n",
       "  (J₁ - m⋅(Γ₁ + Γ₂))    (J₂ + (Γ₁ + Γ₂)⋅(m + 1))                              \n",
       "\n",
       " __________________                                                 __________\n",
       "╱        Γ₁                                                        ╱          \n",
       "  ──────────────── ⋅(-0.802⋅m - 0.46)⋅cos(φ₁) + 1.4142135623731⋅  ╱  ─────────\n",
       "  J₁ - m⋅(Γ₁ + Γ₂)                                              ╲╱   J₂ + (Γ₁ \n",
       "──────────────────────────────────────────────────────────────────────────────\n",
       "                                                           2                  \n",
       "                                M₁⋅(J₂ + (Γ₁ + Γ₂)⋅(m + 1))                   \n",
       "\n",
       "______________                         ⎞\n",
       " Γ₂                                    ⎟\n",
       "───────────── ⋅(0.802⋅m + 0.87)⋅cos(φ₂)⎟\n",
       "+ Γ₂)⋅(m + 1)                          ⎠\n",
       "────────────────────────────────────────\n",
       "                                        \n",
       "                                        "
      ]
     },
     "execution_count": 16,
     "metadata": {},
     "output_type": "execute_result"
    }
   ],
   "source": [
    "H2"
   ]
  },
  {
   "cell_type": "code",
   "execution_count": 17,
   "metadata": {
    "collapsed": false
   },
   "outputs": [],
   "source": [
    "var = (mu1, J1, m, mu2, J2, m1, M1, phi1, phi2, Gamma1, Gamma2)\n",
    "params = (mu1, J1, m, mu2, J2, m1, M1)"
   ]
  },
  {
   "cell_type": "code",
   "execution_count": 18,
   "metadata": {
    "collapsed": false
   },
   "outputs": [
    {
     "data": {
      "image/png": "[encoded data removed]",
      "text/latex": [
       "$$- \\frac{1.4142135623731 m_{1} \\mu_{2} \\sqrt{\\frac{\\Gamma_{1}}{J_{1} - m \\left(\\Gamma_{1} + \\Gamma_{2}\\right)}} \\left(- 0.802 m - 0.46\\right) \\sin{\\left (\\phi_{1} \\right )}}{M_{1} \\left(J_{2} + \\left(\\Gamma_{1} + \\Gamma_{2}\\right) \\left(m + 1\\right)\\right)^{2}}$$"
      ],
      "text/plain": [
       "                           __________________                           \n",
       "                          ╱        Γ₁                                   \n",
       "-1.4142135623731⋅m₁⋅μ₂⋅  ╱  ──────────────── ⋅(-0.802⋅m - 0.46)⋅sin(φ₁) \n",
       "                       ╲╱   J₁ - m⋅(Γ₁ + Γ₂)                            \n",
       "────────────────────────────────────────────────────────────────────────\n",
       "                                                 2                      \n",
       "                      M₁⋅(J₂ + (Γ₁ + Γ₂)⋅(m + 1))                       "
      ]
     },
     "execution_count": 18,
     "metadata": {},
     "output_type": "execute_result"
    }
   ],
   "source": [
    "-diff(H2,phi1)"
   ]
  },
  {
   "cell_type": "code",
   "execution_count": 19,
   "metadata": {
    "collapsed": false
   },
   "outputs": [],
   "source": [
    "Gamma1dot = lambdify(var, -diff(H2, phi1), 'numpy')\n",
    "Gamma2dot = lambdify(var, -diff(H2, phi2), 'numpy')\n",
    "phi1dot = lambdify(var, diff(H2, Gamma1), 'numpy')\n",
    "phi2dot = lambdify(var, diff(H2, Gamma2), 'numpy')"
   ]
  },
  {
   "cell_type": "code",
   "execution_count": 38,
   "metadata": {
    "collapsed": true
   },
   "outputs": [],
   "source": [
    "def diffeq(y, t, mu1, J1, m, mu2, J2, m1, M1):\n",
    "    phi1, phi2, Gamma1, Gamma2 = y\n",
    "    dydt = [phi1dot(*var), phi2dot(*var), Gamma1dot(*var), Gamma2dot(*var)]\n",
    "    return dydt"
   ]
  },
  {
   "cell_type": "code",
   "execution_count": 39,
   "metadata": {
    "collapsed": false
   },
   "outputs": [],
   "source": [
    "import rebound\n",
    "import numpy as np\n",
    "m=2.\n",
    "sim = rebound.Simulation()\n",
    "sim.add(m=3.)\n",
    "sim.add(m=1.e-5, e=0.001, P=2.)\n",
    "sim.add(m=1.e-5, e=0.001, P=(m+1)/m*2.)\n",
    "sim.move_to_com()\n",
    "ps = sim.particles\n",
    "ps[1].hash = 1\n",
    "ps[2].hash = 2"
   ]
  },
  {
   "cell_type": "code",
   "execution_count": 40,
   "metadata": {
    "collapsed": false
   },
   "outputs": [],
   "source": [
    "def mjac(self):\n",
    "    Mint = 0\n",
    "    for i in range(self.index):\n",
    "        Mint += self._sim.contents.particles[i].m\n",
    "    return Mint*self.m/(Mint+self.m)\n",
    "\n",
    "def Mjac(self):\n",
    "    Mint = 0\n",
    "    for i in range(self.index):\n",
    "        Mint += self._sim.contents.particles[i].m\n",
    "    return (Mint+self.m)/Mint*self._sim.contents.particles[0].m\n",
    "\n",
    "def Lambda(self):\n",
    "    return self.mjac*np.sqrt(self._sim.contents.G*self.Mjac*self.a)\n",
    "\n",
    "def Gamma(self):\n",
    "    return self.Lambda*(1.-np.sqrt(1.-self.e**2))\n",
    "\n",
    "def J(self):\n",
    "    if self.hash == 1:\n",
    "        return self.Lambda + m*(self._sim.contents.particles[1].Gamma + self._sim.contents.particles[1].Gamma)\n",
    "    if self.hash == 2:\n",
    "        return self.Lambda - (m+1)*(self._sim.contents.particles[1].Gamma + self._sim.contents.particles[1].Gamma)\n",
    "    \n",
    "def mu(self):\n",
    "    return self._sim.contents.G**2*self.Mjac**2*self.mjac**3\n",
    "\n",
    "rebound.Particle.mjac = property(mjac)\n",
    "rebound.Particle.Mjac = property(Mjac)\n",
    "rebound.Particle.Lambda = property(Lambda)\n",
    "rebound.Particle.Gamma = property(Gamma)\n",
    "rebound.Particle.J = property(J)\n",
    "rebound.Particle.mu = property(mu)"
   ]
  },
  {
   "cell_type": "code",
   "execution_count": 41,
   "metadata": {
    "collapsed": false
   },
   "outputs": [],
   "source": [
    "y0 = [0., 0., ps[1].Gamma, ps[2].Gamma]"
   ]
  },
  {
   "cell_type": "code",
   "execution_count": 42,
   "metadata": {
    "collapsed": true
   },
   "outputs": [],
   "source": [
    "Norbits = 5000\n",
    "Nout = 10000\n",
    "tmax = Norbits*sim.particles[2].P\n",
    "times = np.linspace(0, tmax, Nout, endpoint=False)"
   ]
  },
  {
   "cell_type": "code",
   "execution_count": 43,
   "metadata": {
    "collapsed": false
   },
   "outputs": [
    {
     "ename": "AttributeError",
     "evalue": "'Mul' object has no attribute 'sqrt'",
     "output_type": "error",
     "traceback": [
      "\u001b[0;31m---------------------------------------------------------------------------\u001b[0m",
      "\u001b[0;31mAttributeError\u001b[0m                            Traceback (most recent call last)",
      "\u001b[0;32m<ipython-input-43-65cc4cc40fbc>\u001b[0m in \u001b[0;36m<module>\u001b[0;34m()\u001b[0m\n\u001b[1;32m      1\u001b[0m \u001b[0;32mfrom\u001b[0m \u001b[0mscipy\u001b[0m\u001b[0;34m.\u001b[0m\u001b[0mintegrate\u001b[0m \u001b[0;32mimport\u001b[0m \u001b[0modeint\u001b[0m\u001b[0;34m\u001b[0m\u001b[0m\n\u001b[0;32m----> 2\u001b[0;31m \u001b[0msol\u001b[0m \u001b[0;34m=\u001b[0m \u001b[0modeint\u001b[0m\u001b[0;34m(\u001b[0m\u001b[0mdiffeq\u001b[0m\u001b[0;34m,\u001b[0m \u001b[0my0\u001b[0m\u001b[0;34m,\u001b[0m \u001b[0mtimes\u001b[0m\u001b[0;34m,\u001b[0m \u001b[0margs\u001b[0m\u001b[0;34m=\u001b[0m\u001b[0;34m(\u001b[0m\u001b[0mps\u001b[0m\u001b[0;34m[\u001b[0m\u001b[0;36m1\u001b[0m\u001b[0;34m]\u001b[0m\u001b[0;34m.\u001b[0m\u001b[0mmu\u001b[0m\u001b[0;34m,\u001b[0m \u001b[0mps\u001b[0m\u001b[0;34m[\u001b[0m\u001b[0;36m1\u001b[0m\u001b[0;34m]\u001b[0m\u001b[0;34m.\u001b[0m\u001b[0mJ\u001b[0m\u001b[0;34m,\u001b[0m \u001b[0mm\u001b[0m\u001b[0;34m,\u001b[0m \u001b[0mps\u001b[0m\u001b[0;34m[\u001b[0m\u001b[0;36m2\u001b[0m\u001b[0;34m]\u001b[0m\u001b[0;34m.\u001b[0m\u001b[0mmu\u001b[0m\u001b[0;34m,\u001b[0m \u001b[0mps\u001b[0m\u001b[0;34m[\u001b[0m\u001b[0;36m2\u001b[0m\u001b[0;34m]\u001b[0m\u001b[0;34m.\u001b[0m\u001b[0mJ\u001b[0m\u001b[0;34m,\u001b[0m \u001b[0mps\u001b[0m\u001b[0;34m[\u001b[0m\u001b[0;36m1\u001b[0m\u001b[0;34m]\u001b[0m\u001b[0;34m.\u001b[0m\u001b[0mmjac\u001b[0m\u001b[0;34m,\u001b[0m \u001b[0mps\u001b[0m\u001b[0;34m[\u001b[0m\u001b[0;36m1\u001b[0m\u001b[0;34m]\u001b[0m\u001b[0;34m.\u001b[0m\u001b[0mMjac\u001b[0m\u001b[0;34m)\u001b[0m\u001b[0;34m)\u001b[0m\u001b[0;34m\u001b[0m\u001b[0m\n\u001b[0m",
      "\u001b[0;32m/Users/dtamayo/miniconda2/envs/p3/lib/python3.5/site-packages/scipy/integrate/odepack.py\u001b[0m in \u001b[0;36modeint\u001b[0;34m(func, y0, t, args, Dfun, col_deriv, full_output, ml, mu, rtol, atol, tcrit, h0, hmax, hmin, ixpr, mxstep, mxhnil, mxordn, mxords, printmessg)\u001b[0m\n\u001b[1;32m    213\u001b[0m     output = _odepack.odeint(func, y0, t, args, Dfun, col_deriv, ml, mu,\n\u001b[1;32m    214\u001b[0m                              \u001b[0mfull_output\u001b[0m\u001b[0;34m,\u001b[0m \u001b[0mrtol\u001b[0m\u001b[0;34m,\u001b[0m \u001b[0matol\u001b[0m\u001b[0;34m,\u001b[0m \u001b[0mtcrit\u001b[0m\u001b[0;34m,\u001b[0m \u001b[0mh0\u001b[0m\u001b[0;34m,\u001b[0m \u001b[0mhmax\u001b[0m\u001b[0;34m,\u001b[0m \u001b[0mhmin\u001b[0m\u001b[0;34m,\u001b[0m\u001b[0;34m\u001b[0m\u001b[0m\n\u001b[0;32m--> 215\u001b[0;31m                              ixpr, mxstep, mxhnil, mxordn, mxords)\n\u001b[0m\u001b[1;32m    216\u001b[0m     \u001b[0;32mif\u001b[0m \u001b[0moutput\u001b[0m\u001b[0;34m[\u001b[0m\u001b[0;34m-\u001b[0m\u001b[0;36m1\u001b[0m\u001b[0;34m]\u001b[0m \u001b[0;34m<\u001b[0m \u001b[0;36m0\u001b[0m\u001b[0;34m:\u001b[0m\u001b[0;34m\u001b[0m\u001b[0m\n\u001b[1;32m    217\u001b[0m         \u001b[0mwarning_msg\u001b[0m \u001b[0;34m=\u001b[0m \u001b[0m_msgs\u001b[0m\u001b[0;34m[\u001b[0m\u001b[0moutput\u001b[0m\u001b[0;34m[\u001b[0m\u001b[0;34m-\u001b[0m\u001b[0;36m1\u001b[0m\u001b[0;34m]\u001b[0m\u001b[0;34m]\u001b[0m \u001b[0;34m+\u001b[0m \u001b[0;34m\" Run with full_output = 1 to get quantitative information.\"\u001b[0m\u001b[0;34m\u001b[0m\u001b[0m\n",
      "\u001b[0;32m<ipython-input-38-d9e23ad4a9c3>\u001b[0m in \u001b[0;36mdiffeq\u001b[0;34m(y, t, mu1, J1, m, mu2, J2, m1, M1)\u001b[0m\n\u001b[1;32m      1\u001b[0m \u001b[0;32mdef\u001b[0m \u001b[0mdiffeq\u001b[0m\u001b[0;34m(\u001b[0m\u001b[0my\u001b[0m\u001b[0;34m,\u001b[0m \u001b[0mt\u001b[0m\u001b[0;34m,\u001b[0m \u001b[0mmu1\u001b[0m\u001b[0;34m,\u001b[0m \u001b[0mJ1\u001b[0m\u001b[0;34m,\u001b[0m \u001b[0mm\u001b[0m\u001b[0;34m,\u001b[0m \u001b[0mmu2\u001b[0m\u001b[0;34m,\u001b[0m \u001b[0mJ2\u001b[0m\u001b[0;34m,\u001b[0m \u001b[0mm1\u001b[0m\u001b[0;34m,\u001b[0m \u001b[0mM1\u001b[0m\u001b[0;34m)\u001b[0m\u001b[0;34m:\u001b[0m\u001b[0;34m\u001b[0m\u001b[0m\n\u001b[1;32m      2\u001b[0m     \u001b[0mphi1\u001b[0m\u001b[0;34m,\u001b[0m \u001b[0mphi2\u001b[0m\u001b[0;34m,\u001b[0m \u001b[0mGamma1\u001b[0m\u001b[0;34m,\u001b[0m \u001b[0mGamma2\u001b[0m \u001b[0;34m=\u001b[0m \u001b[0my\u001b[0m\u001b[0;34m\u001b[0m\u001b[0m\n\u001b[0;32m----> 3\u001b[0;31m     \u001b[0mdydt\u001b[0m \u001b[0;34m=\u001b[0m \u001b[0;34m[\u001b[0m\u001b[0mphi1dot\u001b[0m\u001b[0;34m(\u001b[0m\u001b[0;34m*\u001b[0m\u001b[0mvar\u001b[0m\u001b[0;34m)\u001b[0m\u001b[0;34m,\u001b[0m \u001b[0mphi2dot\u001b[0m\u001b[0;34m(\u001b[0m\u001b[0;34m*\u001b[0m\u001b[0mvar\u001b[0m\u001b[0;34m)\u001b[0m\u001b[0;34m,\u001b[0m \u001b[0mGamma1dot\u001b[0m\u001b[0;34m(\u001b[0m\u001b[0;34m*\u001b[0m\u001b[0mvar\u001b[0m\u001b[0;34m)\u001b[0m\u001b[0;34m,\u001b[0m \u001b[0mGamma2dot\u001b[0m\u001b[0;34m(\u001b[0m\u001b[0;34m*\u001b[0m\u001b[0mvar\u001b[0m\u001b[0;34m)\u001b[0m\u001b[0;34m]\u001b[0m\u001b[0;34m\u001b[0m\u001b[0m\n\u001b[0m\u001b[1;32m      4\u001b[0m     \u001b[0;32mreturn\u001b[0m \u001b[0mdydt\u001b[0m\u001b[0;34m\u001b[0m\u001b[0m\n",
      "\u001b[0;32m/Users/dtamayo/miniconda2/envs/p3/lib/python3.5/site-packages/numpy/__init__.py\u001b[0m in \u001b[0;36m<lambda>\u001b[0;34m(_Dummy_48, _Dummy_49, _Dummy_50, _Dummy_51, _Dummy_52, _Dummy_53, _Dummy_54, _Dummy_55, _Dummy_56, _Dummy_57, _Dummy_58)\u001b[0m\n",
      "\u001b[0;31mAttributeError\u001b[0m: 'Mul' object has no attribute 'sqrt'"
     ]
    }
   ],
   "source": [
    "from scipy.integrate import odeint\n",
    "sol = odeint(diffeq, y0, times, args=(ps[1].mu, ps[1].J, m, ps[2].mu, ps[2].J, ps[1].mjac, ps[1].Mjac))"
   ]
  },
  {
   "cell_type": "code",
   "execution_count": null,
   "metadata": {
    "collapsed": true
   },
   "outputs": [],
   "source": [
    "params = (mu1, J1, m, mu2, J2, m1, M1)"
   ]
  }
 ],
 "metadata": {
  "kernelspec": {
   "display_name": "Python 3",
   "language": "python",
   "name": "python3"
  },
  "language_info": {
   "codemirror_mode": {
    "name": "ipython",
    "version": 3
   },
   "file_extension": ".py",
   "mimetype": "text/x-python",
   "name": "python",
   "nbconvert_exporter": "python",
   "pygments_lexer": "ipython3",
   "version": "3.5.1"
  }
 },
 "nbformat": 4,
 "nbformat_minor": 0
}
