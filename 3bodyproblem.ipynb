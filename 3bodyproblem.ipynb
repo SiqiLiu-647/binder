{
 "cells": [
  {
   "cell_type": "code",
   "execution_count": 440,
   "metadata": {
    "collapsed": false
   },
   "outputs": [],
   "source": [
    "%matplotlib inline\n",
    "import rebound\n",
    "import numpy as np\n",
    "import matplotlib.pyplot as plt\n",
    "from ipywidgets import interact\n",
    "import scipy.integrate as integrate\n",
    "import pandas as pd"
   ]
  },
  {
   "cell_type": "code",
   "execution_count": 441,
   "metadata": {
    "collapsed": true
   },
   "outputs": [],
   "source": [
    "m=3.\n",
    "sim = rebound.Simulation()\n",
    "sim.add(m=3.)\n",
    "sim.add(m=1.e-3, e=0.001, P=2.)\n",
    "sim.add(m=1.e-3, e=0.001, P=(m+1)/m*2.)\n",
    "sim.move_to_com()\n",
    "ps = sim.particles"
   ]
  },
  {
   "cell_type": "code",
   "execution_count": 442,
   "metadata": {
    "collapsed": false
   },
   "outputs": [],
   "source": [
    "def mjac(self):\n",
    "    Mint = 0\n",
    "    for i in range(self.index):\n",
    "        Mint += self._sim.contents.particles[i].m\n",
    "    return Mint*self.m/(Mint+self.m)\n",
    "\n",
    "def Mjac(self):\n",
    "    Mint = 0\n",
    "    for i in range(self.index):\n",
    "        Mint += self._sim.contents.particles[i].m\n",
    "    return (Mint+self.m)/Mint*self._sim.contents.particles[0].m\n",
    "\n",
    "def Lambda(self):\n",
    "    return self.mjac*np.sqrt(self._sim.contents.G*self.Mjac*self.a)\n",
    "\n",
    "def Gamma(self):\n",
    "    return self.Lambda*(1.-np.sqrt(1.-self.e**2))\n",
    "\n",
    "rebound.Particle.mjac = property(mjac)\n",
    "rebound.Particle.Mjac = property(Mjac)\n",
    "rebound.Particle.Lambda = property(Lambda)\n",
    "rebound.Particle.Gamma = property(Gamma)"
   ]
  },
  {
   "cell_type": "code",
   "execution_count": 443,
   "metadata": {
    "collapsed": true
   },
   "outputs": [],
   "source": [
    "def HKep(p):\n",
    "    return -p.mjac**3*(sim.G*p.Mjac)**2/(2.*p.Lambda**2)\n",
    "def HintAvg(sim):\n",
    "    p1 = sim.particles[1]\n",
    "    p2 = sim.particles[2]\n",
    "    G = sim.G\n",
    "    Hint = 0\n",
    "    #Hint += f1(0, sim)\n",
    "    Hint += f27(m+1, sim)*np.sqrt(2*p1.Gamma/p1.Lambda)*np.cos((m+1)*p2.l-m*p1.l-p1.pomega)\n",
    "    Hint += f31(m+1, sim)*np.sqrt(2*p2.Gamma/p2.Lambda)*np.cos((m+1)*p2.l-m*p1.l-p2.pomega)\n",
    "    return Hint*p1.mjac/p1.Mjac*2*HKep(p2)\n",
    "def H(sim):\n",
    "    return HKep(sim.particles[1]) + HKep(sim.particles[2])# + HintAvg(sim)\n",
    "def f1(j, sim):\n",
    "    alpha = sim.particles[1].a/sim.particles[2].a\n",
    "    return integrate.quad(lambda x: np.cos(j*x)/np.sqrt(1.-2*alpha*np.cos(x)+alpha**2), 0, 2*np.pi)[0]/np.pi\n",
    "def f27(j, sim):\n",
    "    return -0.46-0.802*(j-1)\n",
    "def f31(j, sim):\n",
    "    return 0.87+0.802*(j-1)"
   ]
  },
  {
   "cell_type": "code",
   "execution_count": 444,
   "metadata": {
    "collapsed": false
   },
   "outputs": [],
   "source": [
    "Norbits = 500\n",
    "Nout = 1000\n",
    "tmax = Norbits*sim.particles[2].P\n",
    "times = np.linspace(0, tmax, Nout, endpoint=False)\n",
    "Hs, Hunscaled = np.zeros(Nout), np.zeros(Nout)\n",
    "Hints = np.zeros(Nout)\n",
    "a1, a2 = np.zeros(Nout), np.zeros(Nout)\n",
    "e1, e2 = np.zeros(Nout), np.zeros(Nout)\n",
    "po1, po2 = np.zeros(Nout), np.zeros(Nout)\n",
    "H0 = H(sim)\n",
    "p1 = sim.particles[1]\n",
    "p2 = sim.particles[2]\n",
    "a10 = p1.a\n",
    "a20 = p2.a\n",
    "e10 = p1.e\n",
    "e20 = p2.e\n",
    "for i, time in enumerate(times):\n",
    "    sim.integrate(time)\n",
    "    Hs[i] = np.abs((H(sim) - H0)/H0)\n",
    "    Hints[i] = HintAvg(sim)\n",
    "    Hunscaled[i] = H(sim)\n",
    "    a1[i] = np.abs((p1.a - a10)/a10)\n",
    "    a2[i] = np.abs((p2.a - a20)/a20)\n",
    "    e1[i] = p1.e#np.abs((p1.e - e10)/e10)\n",
    "    e2[i] = p2.e#np.abs((p2.e - e20)/e20)\n",
    "    po1[i] = p1.pomega\n",
    "    po2[i] = p2.pomega"
   ]
  },
  {
   "cell_type": "code",
   "execution_count": 456,
   "metadata": {
    "collapsed": true
   },
   "outputs": [],
   "source": [
    "from scipy.signal import butter, lfilter\n",
    "def butter_bandpass(lowcut, highcut, fs, order=5):\n",
    "    nyq = 0.5 * fs\n",
    "    low = lowcut / nyq\n",
    "    high = highcut / nyq\n",
    "    b, a = butter(order, [low, high], btype='band')\n",
    "    return b, a\n",
    "\n",
    "\n",
    "def butter_bandpass_filter(data, lowcut, highcut, fs, order=5):\n",
    "    b, a = butter_bandpass(lowcut, highcut, fs, order=order)\n",
    "    y = lfilter(b, a, data)\n",
    "    return y"
   ]
  },
  {
   "cell_type": "code",
   "execution_count": 457,
   "metadata": {
    "collapsed": false
   },
   "outputs": [
    {
     "name": "stderr",
     "output_type": "stream",
     "text": [
      "/Users/Dan/anaconda/envs/p3/lib/python3.5/site-packages/ipykernel/__main__.py:11: VisibleDeprecationWarning: using a non-integer number instead of an integer will result in an error in the future\n"
     ]
    },
    {
     "data": {
      "image/png": "[encoded data removed]",
      "text/plain": [
       "<matplotlib.figure.Figure at 0x1155a20b8>"
      ]
     },
     "metadata": {},
     "output_type": "display_data"
    }
   ],
   "source": [
    "from scipy.fftpack import fft\n",
    "\n",
    "T = tmax/Nout # sample spacing\n",
    "nyq= 1./(2.*T) # Nyquist freq\n",
    "\n",
    "from scipy.signal import kaiser\n",
    "w = kaiser(Nout, 14)\n",
    "yf = fft(Hunscaled*w)\n",
    "xf = np.linspace(0., nyq, Nout/2)\n",
    "fig, ax = plt.subplots()\n",
    "ax.plot(xf[1:], np.abs(yf[1:Nout/2]))\n",
    "ax.set_yscale('log')"
   ]
  },
  {
   "cell_type": "code",
   "execution_count": 463,
   "metadata": {
    "collapsed": false
   },
   "outputs": [
    {
     "data": {
      "text/plain": [
       "[<matplotlib.lines.Line2D at 0x1128ea128>]"
      ]
     },
     "execution_count": 463,
     "metadata": {},
     "output_type": "execute_result"
    },
    {
     "data": {
      "image/png": "[encoded data removed]",
      "text/plain": [
       "<matplotlib.figure.Figure at 0x115596fd0>"
      ]
     },
     "metadata": {},
     "output_type": "display_data"
    }
   ],
   "source": [
    "fs = Nout/tmax\n",
    "lowcut = 0.01#1/sim.particles[1].P/4\n",
    "highcut = 0.05\n",
    "#print(\"Cutting frequencies higher than {0}\".format(cutoff))\n",
    "Havg = butter_bandpass_filter(Hunscaled, lowcut, highcut, fs)\n",
    "fig, ax = plt.subplots()\n",
    "#ax.plot(times, Hunscaled+4.071e-3)\n",
    "ax.plot(times[500:], Havg[500:])\n",
    "ax.plot(times, Hints)\n",
    "#ax.set_yscale('log')"
   ]
  },
  {
   "cell_type": "code",
   "execution_count": 449,
   "metadata": {
    "collapsed": false
   },
   "outputs": [
    {
     "data": {
      "text/plain": [
       "0.5081049004525233"
      ]
     },
     "execution_count": 449,
     "metadata": {},
     "output_type": "execute_result"
    }
   ],
   "source": [
    "1/sim.particles[1].P"
   ]
  },
  {
   "cell_type": "code",
   "execution_count": 450,
   "metadata": {
    "collapsed": false
   },
   "outputs": [
    {
     "data": {
      "text/plain": [
       "-3.1093420254968542e-06"
      ]
     },
     "execution_count": 450,
     "metadata": {},
     "output_type": "execute_result"
    }
   ],
   "source": [
    "f1(0, sim)*p1.mjac/p1.Mjac*2*HKep(p2)"
   ]
  },
  {
   "cell_type": "code",
   "execution_count": 451,
   "metadata": {
    "collapsed": false
   },
   "outputs": [
    {
     "data": {
      "text/plain": [
       "-0.0018222316107101143"
      ]
     },
     "execution_count": 451,
     "metadata": {},
     "output_type": "execute_result"
    }
   ],
   "source": [
    "HKep(p2)"
   ]
  },
  {
   "cell_type": "code",
   "execution_count": 452,
   "metadata": {
    "collapsed": false
   },
   "outputs": [
    {
     "data": {
      "text/plain": [
       "array([ -3.10934203e-06,  -8.27709250e-06,  -7.73992947e-06,\n",
       "        -7.47810107e-06,  -8.06671203e-06,  -7.88606770e-06,\n",
       "        -7.49821418e-06,  -8.11519798e-06,  -7.49222070e-06,\n",
       "        -7.69438338e-06,  -8.30237867e-06,  -4.36413780e-06,\n",
       "        -8.31680645e-06,  -7.74489307e-06,  -7.47323587e-06,\n",
       "        -8.04586275e-06,  -7.66559683e-06,  -7.31729403e-06,\n",
       "        -8.13224812e-06,  -7.51513478e-06,  -7.65838844e-06,\n",
       "        -8.29346951e-06,  -4.67087287e-06,  -8.22007559e-06,\n",
       "        -7.79985649e-06,  -7.45912962e-06,  -7.99902395e-06,\n",
       "        -8.02583290e-06,  -7.42342788e-06,  -8.17771511e-06,\n",
       "        -7.51375029e-06,  -7.65830003e-06,  -8.27606729e-06,\n",
       "        -4.47881180e-06,  -8.26530779e-06,  -7.82695388e-06,\n",
       "        -7.45427089e-06,  -7.96309887e-06,  -8.07855205e-06,\n",
       "        -6.49776556e-06,  -8.19995324e-06,  -7.56172989e-06,\n",
       "        -7.60250870e-06,  -8.27803315e-06,  -6.08964173e-06,\n",
       "        -8.23991771e-06,  -7.84520027e-06,  -7.44985982e-06,\n",
       "        -7.94372962e-06,  -8.00542908e-06,  -6.78686867e-06,\n",
       "        -8.22257873e-06,  -7.55648084e-06,  -7.59337549e-06,\n",
       "        -8.24319815e-06,  -5.91203590e-06,  -8.08236928e-06,\n",
       "        -7.90923565e-06,  -7.45166004e-06,  -7.87910174e-06,\n",
       "        -8.23643756e-06,  -6.30044750e-06,  -8.25481634e-06,\n",
       "        -7.58612959e-06,  -7.57550990e-06,  -8.23288465e-06,\n",
       "        -6.48334506e-06,  -8.20192559e-06,  -7.91865543e-06,\n",
       "        -7.44752692e-06,  -7.87840315e-06,  -8.16802480e-06,\n",
       "        -5.21951852e-06,  -8.26006323e-06,  -7.62766045e-06,\n",
       "        -7.53244672e-06,  -8.20096926e-06,  -7.15268210e-06,\n",
       "        -7.96651113e-06,  -7.96746763e-06,  -7.45690346e-06,\n",
       "        -7.81756959e-06,  -8.24098629e-06,  -5.61414567e-06,\n",
       "        -8.29286029e-06,  -7.61936572e-06,  -7.54306561e-06,\n",
       "        -8.17368831e-06,  -6.78383341e-06,  -7.95612016e-06,\n",
       "        -8.00378398e-06,  -7.45814044e-06,  -7.78807877e-06,\n",
       "        -8.29572594e-06,  -4.14510454e-06,  -8.28180941e-06,\n",
       "        -7.68512295e-06,  -7.50102963e-06,  -8.14596713e-06,\n",
       "        -7.55590989e-06,  -7.98077938e-06,  -8.02795119e-06,\n",
       "        -7.46727185e-06,  -7.77853824e-06,  -8.24118113e-06,\n",
       "        -3.89769697e-06,  -8.29803448e-06,  -7.68780333e-06,\n",
       "        -7.49475042e-06,  -8.10544527e-06,  -7.59531884e-06,\n",
       "        -7.50243007e-06,  -8.08117103e-06,  -7.48400996e-06,\n",
       "        -7.71139151e-06,  -8.31941653e-06,  -4.34462977e-06,\n",
       "        -8.30685817e-06,  -7.71709159e-06,  -7.48623711e-06,\n",
       "        -8.08122278e-06,  -7.55294853e-06,  -7.74086654e-06,\n",
       "        -8.09598931e-06,  -7.48870566e-06,  -7.71198314e-06,\n",
       "        -8.28742906e-06,  -3.42415110e-06,  -8.25811798e-06,\n",
       "        -7.77231572e-06,  -7.46462081e-06,  -8.03829695e-06,\n",
       "        -7.99395122e-06,  -7.43164805e-06,  -8.14523998e-06,\n",
       "        -7.50591889e-06,  -7.67008434e-06,  -8.29191601e-06,\n",
       "        -4.52446049e-06,  -8.30469099e-06,  -7.77445187e-06,\n",
       "        -7.46785169e-06,  -8.00905874e-06,  -7.82616916e-06,\n",
       "        -6.98210903e-06,  -8.16309284e-06,  -7.53156313e-06,\n",
       "        -7.63317957e-06,  -8.28734489e-06,  -5.38865793e-06,\n",
       "        -8.20832824e-06,  -7.82790486e-06,  -7.44979858e-06,\n",
       "        -7.96962623e-06,  -8.05735448e-06,  -7.22401606e-06,\n",
       "        -8.20191711e-06,  -7.53403424e-06,  -7.63154613e-06,\n",
       "        -8.26321398e-06,  -4.98038188e-06,  -8.21608241e-06,\n",
       "        -7.85909044e-06,  -7.45384423e-06,  -7.92607356e-06,\n",
       "        -8.16197369e-06,  -6.25282258e-06,  -8.22685812e-06,\n",
       "        -7.57448607e-06,  -7.58453109e-06,  -8.26206411e-06,\n",
       "        -6.44051054e-06,  -8.22986217e-06,  -7.88077239e-06,\n",
       "        -7.44628303e-06,  -7.91378309e-06,  -8.05912717e-06,\n",
       "        -6.29741626e-06,  -8.23865032e-06,  -7.58597627e-06,\n",
       "        -7.56717869e-06,  -8.22014346e-06,  -6.50188711e-06,\n",
       "        -7.99194970e-06,  -7.93620963e-06,  -7.45497422e-06,\n",
       "        -7.84849103e-06,  -8.25888947e-06,  -6.03100194e-06,\n",
       "        -8.27686801e-06,  -7.59929546e-06,  -7.55771463e-06,\n",
       "        -8.21104401e-06,  -6.63762170e-06,  -8.14095298e-06,\n",
       "        -7.95806162e-06,  -7.45071724e-06,  -7.83847065e-06,\n",
       "        -8.22953320e-06,  -4.51811680e-06,  -8.27057749e-06,\n",
       "        -7.65829753e-06,  -7.51862384e-06,  -8.17364991e-06,\n",
       "        -7.40661927e-06,  -7.94776592e-06,  -7.99513313e-06,\n",
       "        -7.45949838e-06,  -7.79874612e-06,  -8.24653852e-06,\n",
       "        -5.01536706e-06,  -8.30401013e-06,  -7.64554940e-06,\n",
       "        -7.51844832e-06,  -8.14679814e-06,  -7.10269087e-06,\n",
       "        -7.78344637e-06,  -8.03816080e-06,  -7.47104721e-06,\n",
       "        -7.74719084e-06,  -8.30962876e-06,  -4.01652770e-06,\n",
       "        -8.28307152e-06,  -7.70275056e-06,  -7.49464199e-06,\n",
       "        -8.11292778e-06,  -7.63135762e-06,  -7.91652087e-06,\n",
       "        -8.06308793e-06,  -7.47155867e-06,  -7.75606070e-06,\n",
       "        -8.26565906e-06,  -3.31760483e-06,  -8.29559507e-06,\n",
       "        -7.72723544e-06,  -7.47608220e-06,  -8.07586417e-06,\n",
       "        -7.80961204e-06,  -7.35964664e-06,  -8.10980304e-06,\n",
       "        -7.50100737e-06,  -7.68333980e-06,  -8.31232856e-06,\n",
       "        -4.50244769e-06,  -8.30803406e-06,  -7.73638296e-06,\n",
       "        -7.47983301e-06,  -8.05027237e-06,  -7.62909603e-06,\n",
       "        -7.53412743e-06,  -8.12920240e-06,  -7.49947752e-06,\n",
       "        -7.67846384e-06,  -8.28971648e-06,  -4.16068910e-06,\n",
       "        -8.22795689e-06,  -7.80767761e-06,  -7.45527281e-06,\n",
       "        -8.00277347e-06,  -8.06737306e-06,  -7.34121689e-06,\n",
       "        -8.17099028e-06,  -7.52182629e-06,  -7.65317813e-06,\n",
       "        -8.27953826e-06,  -4.77401623e-06,  -8.28700870e-06,\n",
       "        -7.80432869e-06,  -7.45986114e-06,  -7.97775081e-06,\n",
       "        -7.97566554e-06,  -6.59384859e-06,  -8.19443813e-06,\n",
       "        -7.55034565e-06,  -7.60437971e-06,  -8.27925545e-06,\n",
       "        -5.97916551e-06,  -8.19777871e-06,  -7.85596040e-06,\n",
       "        -7.44780915e-06,  -7.93603209e-06,  -8.07182196e-06,\n",
       "        -6.95421504e-06,  -8.22153565e-06,  -7.55313053e-06,\n",
       "        -7.61059210e-06,  -8.24497725e-06,  -5.55751588e-06,\n",
       "        -8.14868190e-06,  -7.89365961e-06,  -7.45074774e-06,\n",
       "        -7.89472152e-06,  -8.22247725e-06,  -6.02612861e-06,\n",
       "        -8.25071852e-06,  -7.59185010e-06,  -7.56311902e-06,\n",
       "        -8.24207344e-06,  -6.69697729e-06,  -8.20162003e-06,\n",
       "        -7.91370743e-06,  -7.45036909e-06,  -7.87927627e-06,\n",
       "        -8.11752690e-06,  -5.67070464e-06,  -8.25470860e-06,\n",
       "        -7.61202206e-06,  -7.54765762e-06,  -8.19585043e-06,\n",
       "        -6.95260755e-06,  -7.91845063e-06,  -7.96865964e-06,\n",
       "        -7.45427575e-06,  -7.82151699e-06,  -8.27577436e-06,\n",
       "        -5.65571608e-06,  -8.29449142e-06,  -7.62216955e-06,\n",
       "        -7.53787990e-06,  -8.18489333e-06,  -6.80777791e-06,\n",
       "        -8.04628862e-06,  -7.98995591e-06,  -7.46032524e-06,\n",
       "        -7.79905776e-06,  -8.26781091e-06,  -3.93037778e-06,\n",
       "        -8.27595052e-06,  -7.68016517e-06,  -7.50683942e-06,\n",
       "        -8.14662996e-06,  -7.58072456e-06,  -7.92804976e-06,\n",
       "        -8.03013726e-06,  -7.46118793e-06,  -7.77701699e-06,\n",
       "        -8.25595871e-06,  -4.35977598e-06,  -8.30734696e-06,\n",
       "        -7.68010562e-06,  -7.49888906e-06,  -8.11419955e-06,\n",
       "        -7.40564791e-06,  -7.57728922e-06,  -8.06719919e-06,\n",
       "        -7.48725609e-06,  -7.71580158e-06,  -8.31417908e-06,\n",
       "        -4.10794419e-06,  -8.28667430e-06,  -7.71755661e-06,\n",
       "        -7.48477981e-06,  -8.08489922e-06,  -7.68036125e-06,\n",
       "        -7.81161429e-06,  -8.09913369e-06,  -7.48010867e-06,\n",
       "        -7.72333070e-06,  -8.28099171e-06,  -3.22441173e-06,\n",
       "        -8.27971245e-06,  -7.76666976e-06,  -7.46667685e-06,\n",
       "        -8.03928529e-06,  -7.95597570e-06,  -7.26075482e-06,\n",
       "        -8.13713186e-06,  -7.51428661e-06,  -7.66614292e-06,\n",
       "        -8.30235863e-06,  -4.79353592e-06,  -8.30816967e-06,\n",
       "        -7.76280295e-06,  -7.46744357e-06,  -8.02308709e-06,\n",
       "        -7.74727891e-06,  -7.23656917e-06,  -8.15930047e-06,\n",
       "        -7.51930507e-06,  -7.64016594e-06,  -8.28425191e-06,\n",
       "        -4.99509255e-06,  -8.18757591e-06,  -7.83514239e-06,\n",
       "        -7.45383573e-06,  -7.96408759e-06,  -8.10779422e-06,\n",
       "        -7.21228037e-06,  -8.19797016e-06,  -7.53260178e-06,\n",
       "        -7.63960210e-06,  -8.26792701e-06,  -5.07937416e-06,\n",
       "        -8.26008815e-06,  -7.84348452e-06,  -7.45014849e-06,\n",
       "        -7.94609567e-06,  -8.10033045e-06,  -6.18610874e-06,\n",
       "        -8.22014226e-06,  -7.57679730e-06,  -7.57772977e-06,\n",
       "        -8.26413433e-06,  -6.44426328e-06,  -8.18506838e-06,\n",
       "        -7.87876486e-06,  -7.45097724e-06,  -7.90603438e-06,\n",
       "        -8.08288702e-06,  -6.58292307e-06,  -8.24164352e-06,\n",
       "        -7.56949864e-06,  -7.58677045e-06,  -8.22480765e-06,\n",
       "        -6.12855759e-06,  -8.05922952e-06,  -7.93343104e-06,\n",
       "        -7.44852980e-06,  -7.85937181e-06,  -8.26414289e-06,\n",
       "        -5.79405763e-06,  -8.26917287e-06,  -7.61337357e-06,\n",
       "        -7.54735168e-06,  -8.21587413e-06,  -6.87334837e-06,\n",
       "        -8.15949615e-06,  -7.94341157e-06,  -7.45497948e-06,\n",
       "        -7.84950359e-06,  -8.17894490e-06,  -4.90369276e-06,\n",
       "        -8.27052889e-06,  -7.63769361e-06,  -7.52603041e-06,\n",
       "        -8.17476463e-06,  -7.28944386e-06,  -7.86234507e-06,\n",
       "        -8.00262474e-06,  -7.45700698e-06,  -7.79062136e-06,\n",
       "        -8.28219737e-06,  -5.19188071e-06,  -8.30464067e-06,\n",
       "        -7.64722801e-06,  -7.52447544e-06,  -8.15298714e-06,\n",
       "        -7.00388339e-06,  -7.91725106e-06,  -8.02136343e-06,\n",
       "        -7.46892497e-06,  -7.76690054e-06,  -8.29217252e-06,\n",
       "        -3.62375987e-06,  -8.27758640e-06,  -7.70306647e-06,\n",
       "        -7.49084531e-06,  -8.12046667e-06,  -7.70794538e-06,\n",
       "        -7.88130316e-06,  -8.06405089e-06,  -7.47060885e-06,\n",
       "        -7.74916773e-06,  -8.26342951e-06,  -3.76489684e-06,\n",
       "        -8.30379552e-06,  -7.71253337e-06,  -7.48732433e-06,\n",
       "        -8.07809126e-06,  -7.65453018e-06,  -7.36943064e-06,\n",
       "        -8.09965405e-06,  -7.49884668e-06,  -7.69180232e-06,\n",
       "        -8.31565619e-06,  -4.40544932e-06,  -8.29392159e-06,\n",
       "        -7.74103068e-06,  -7.47154848e-06,  -8.05765547e-06,\n",
       "        -7.72654600e-06,  -7.65115999e-06,  -8.12748463e-06,\n",
       "        -7.49717386e-06,  -7.68745372e-06,  -8.28369695e-06,\n",
       "        -3.69309455e-06,  -8.24803497e-06,  -7.79695023e-06,\n",
       "        -7.46282813e-06,  -8.00319431e-06,  -8.05114843e-06,\n",
       "        -7.18628763e-06,  -8.16798110e-06,  -7.52136343e-06,\n",
       "        -7.65026024e-06,  -8.29243352e-06,  -5.10845522e-06,\n",
       "        -8.30057599e-06,  -7.79944925e-06,  -7.45647617e-06,\n",
       "        -7.99111794e-06,  -7.88474276e-06,  -6.84831380e-06,\n",
       "        -8.18366337e-06,  -7.54654392e-06,  -7.60931481e-06,\n",
       "        -8.27191047e-06,  -5.73352091e-06,  -8.15154691e-06,\n",
       "        -7.85585795e-06,  -7.45295588e-06,  -7.93280728e-06,\n",
       "        -8.13047455e-06,  -7.01032909e-06,  -8.22590657e-06,\n",
       "        -7.54405602e-06,  -7.61747737e-06,  -8.25439394e-06,\n",
       "        -5.45013600e-06,  -8.21161587e-06,  -7.88609759e-06,\n",
       "        -7.44688557e-06,  -7.90602809e-06,  -8.18681300e-06,\n",
       "        -5.81558518e-06,  -8.24041669e-06,  -7.60192176e-06,\n",
       "        -7.56114214e-06,  -8.24194593e-06,  -6.78263919e-06,\n",
       "        -8.17395148e-06,  -7.90474166e-06,  -7.45061709e-06,\n",
       "        -7.88377496e-06,  -8.11261923e-06,  -6.06326626e-06,\n",
       "        -8.26007379e-06,  -7.59297487e-06,  -7.55638420e-06,\n",
       "        -8.20382416e-06,  -6.65152329e-06,  -7.94481094e-06,\n",
       "        -7.96867794e-06,  -7.45411913e-06,  -7.81949329e-06,\n",
       "        -8.28631525e-06,  -5.52201142e-06,  -8.28396010e-06,\n",
       "        -7.62959967e-06,  -7.53908556e-06,  -8.18711804e-06,\n",
       "        -6.98607995e-06,  -8.10326590e-06,  -7.97863379e-06,\n",
       "        -7.45582160e-06,  -7.82179735e-06,  -8.23536333e-06,\n",
       "        -4.09745913e-06,  -8.28080865e-06,  -7.67118713e-06,\n",
       "        -7.50391796e-06,  -8.15184036e-06,  -7.54143667e-06,\n",
       "        -7.81718228e-06,  -8.03069871e-06,  -7.46722089e-06,\n",
       "        -7.76178618e-06,  -8.27843052e-06,  -4.67116473e-06,\n",
       "        -8.31040903e-06,  -7.66832768e-06,  -7.51225845e-06,\n",
       "        -8.12067972e-06,  -7.22796543e-06,  -7.74503672e-06,\n",
       "        -8.05854614e-06,  -7.47595901e-06,  -7.73402474e-06,\n",
       "        -8.30725723e-06,  -3.70263576e-06,  -8.27578936e-06,\n",
       "        -7.73101389e-06,  -7.47674229e-06,  -8.08905592e-06,\n",
       "        -7.79568600e-06,  -7.80433175e-06,  -8.09266755e-06,\n",
       "        -7.48465427e-06,  -7.72437298e-06,  -8.27046737e-06,\n",
       "        -3.43064746e-06,  -8.29546345e-06,  -7.74225735e-06,\n",
       "        -7.47573771e-06,  -8.04624948e-06,  -7.84928972e-06,\n",
       "        -7.17657926e-06,  -8.13478923e-06,  -7.50927757e-06,\n",
       "        -7.66504380e-06,  -8.31310304e-06,  -4.82523569e-06,\n",
       "        -8.29613838e-06,  -7.76973522e-06,  -7.46411406e-06,\n",
       "        -8.02493432e-06,  -7.77559365e-06,  -7.43150531e-06,\n",
       "        -8.15093119e-06,  -7.51591012e-06,  -7.65840059e-06,\n",
       "        -8.27761225e-06,  -4.48965178e-06,  -8.20527438e-06,\n",
       "        -7.82530675e-06,  -7.45629284e-06,  -7.97275599e-06,\n",
       "        -8.11965639e-06,  -7.08669708e-06,  -8.19835720e-06,\n",
       "        -7.53262545e-06,  -7.62858557e-06,  -8.27925084e-06,\n",
       "        -5.39625338e-06,  -8.27840136e-06,  -7.83576243e-06,\n",
       "        -7.45361290e-06,  -7.95258188e-06,  -8.00931274e-06,\n",
       "        -6.39317956e-06,  -8.20782051e-06,  -7.57072969e-06,\n",
       "        -7.58848152e-06,  -8.25662173e-06,  -6.30250037e-06,\n",
       "        -8.13373208e-06,  -7.88157936e-06,  -7.44766233e-06,\n",
       "        -7.90783355e-06,  -8.14914724e-06,  -6.70840378e-06,\n",
       "        -8.24833710e-06,  -7.56490954e-06,  -7.58926604e-06,\n",
       "        -8.23520617e-06,  -5.89236657e-06,  -8.13225240e-06,\n",
       "        -7.92116357e-06,  -7.45170847e-06,  -7.86416904e-06,\n",
       "        -8.23945576e-06,  -5.50040381e-06,  -8.25858002e-06,\n",
       "        -7.61753757e-06,  -7.54922209e-06,  -8.21816704e-06,\n",
       "        -7.01091369e-06,  -8.15620133e-06,  -7.94067905e-06,\n",
       "        -7.44821465e-06,  -7.85942707e-06,  -8.15918365e-06,\n",
       "        -5.38198500e-06,  -8.27279082e-06,  -7.62688163e-06,\n",
       "        -7.52957230e-06,  -8.17820294e-06,  -7.08663996e-06,\n",
       "        -7.82475161e-06,  -7.99635504e-06,  -7.46434388e-06,\n",
       "        -7.78641402e-06,  -8.29536004e-06,  -5.17354002e-06,\n",
       "        -8.29858718e-06,  -7.64258034e-06,  -7.52736360e-06,\n",
       "        -8.16048721e-06,  -7.08408373e-06,  -8.01610046e-06,\n",
       "        -8.01817943e-06,  -7.45923443e-06,  -7.78549310e-06,\n",
       "        -8.27423317e-06,  -3.48569690e-06,  -8.28111629e-06,\n",
       "        -7.70669297e-06,  -7.48965875e-06,  -8.12091753e-06,\n",
       "        -7.71727671e-06,  -7.78342985e-06,  -8.05696135e-06,\n",
       "        -7.47689165e-06,  -7.74299426e-06,  -8.27584290e-06,\n",
       "        -4.17971244e-06,  -8.31424152e-06,  -7.69327213e-06,\n",
       "        -7.49394624e-06,  -8.09201423e-06,  -7.47412090e-06,\n",
       "        -7.51625618e-06,  -8.09478902e-06,  -7.48931481e-06,\n",
       "        -7.69615960e-06,  -8.31310286e-06,  -4.09340850e-06,\n",
       "        -8.26965980e-06,  -7.75455470e-06,  -7.47106589e-06,\n",
       "        -8.05316368e-06,  -7.84199278e-06,  -7.69894796e-06,\n",
       "        -8.12185535e-06,  -7.49509580e-06,  -7.70387988e-06,\n",
       "        -8.27726463e-06,  -3.54947669e-06,  -8.27937830e-06,\n",
       "        -7.77883438e-06,  -7.46178183e-06,  -8.01696103e-06,\n",
       "        -7.99869024e-06,  -7.00715365e-06,  -8.16525487e-06,\n",
       "        -7.52643402e-06,  -7.63745279e-06,  -8.30234394e-06,\n",
       "        -5.27166591e-06,  -8.28937029e-06,  -7.79493607e-06,\n",
       "        -7.46247844e-06,  -7.99092567e-06,  -7.83948925e-06,\n",
       "        -7.13463792e-06,  -8.17744817e-06,  -7.53171634e-06,\n",
       "        -7.63116320e-06,  -8.26753535e-06,  -5.30593476e-06,\n",
       "        -8.15718490e-06,  -7.85937489e-06,  -7.44827177e-06,\n",
       "        -7.94072790e-06,  -8.16986160e-06,  -6.93415986e-06,\n",
       "        -8.22327166e-06,  -7.55139761e-06,  -7.60842184e-06,\n",
       "        -8.26099215e-06,  -5.66400260e-06,  -8.24281791e-06,\n",
       "        -7.86684654e-06,  -7.45366798e-06,  -7.91657396e-06,\n",
       "        -8.11256973e-06,  -5.89145205e-06,  -8.23320598e-06,\n",
       "        -7.59039193e-06,  -7.56762526e-06,  -8.24172186e-06,\n",
       "        -6.72279224e-06,  -8.12446834e-06,  -7.91341215e-06,\n",
       "        -7.44467593e-06,  -7.87958961e-06,  -8.16260000e-06,\n",
       "        -6.30008046e-06,  -8.26277836e-06,  -7.59083332e-06,\n",
       "        -7.56634250e-06,  -8.20926398e-06,  -6.35928679e-06,\n",
       "        -8.02516777e-06,  -7.95203342e-06,  -7.45706763e-06,\n",
       "        -7.83047084e-06,  -8.27377325e-06,  -5.21242317e-06,\n",
       "        -8.27592665e-06,  -7.63161513e-06,  -7.53280827e-06,\n",
       "        -8.19489899e-06,  -7.16774466e-06,  -8.11567022e-06,\n",
       "        -7.97850570e-06,  -7.45232796e-06,  -7.82624599e-06,\n",
       "        -8.20473021e-06,  -4.57459306e-06,  -8.28045074e-06,\n",
       "        -7.66088362e-06,  -7.51298503e-06,  -8.14797334e-06,\n",
       "        -7.40954422e-06,  -7.73196667e-06,  -8.02549188e-06,\n",
       "        -7.47049212e-06,  -7.76305559e-06,  -8.30079773e-06,\n",
       "        -4.77527355e-06,  -8.31220576e-06,  -7.66398036e-06,\n",
       "        -7.50894339e-06,  -8.13407729e-06,  -7.21453988e-06,\n",
       "        -7.87897442e-06,  -8.05211716e-06,  -7.47165120e-06,\n",
       "        -7.74370328e-06,  -8.29326367e-06,  -3.30880778e-06,\n",
       "        -8.27096988e-06,  -7.73284425e-06,  -7.48258016e-06,\n",
       "        -8.08673031e-06,  -7.83056833e-06,  -7.74713682e-06,\n",
       "        -8.08932135e-06,  -7.48155457e-06,  -7.72701679e-06,\n",
       "        -8.27908701e-06,  -3.85285498e-06,  -8.31237618e-06,\n",
       "        -7.72934829e-06,  -7.47533476e-06,  -8.06114374e-06,\n",
       "        -7.70861977e-06,  -7.24463709e-06,  -8.12443560e-06,\n",
       "        -7.51066165e-06,  -7.66304850e-06,  -8.30978795e-06,\n",
       "        -4.65202335e-06,  -8.26434021e-06,  -7.77115797e-06,\n",
       "        -7.46757564e-06,  -8.02164396e-06,  -7.86600590e-06,\n",
       "        -7.54525128e-06,  -8.15378016e-06,  -7.50424752e-06,\n",
       "        -7.67652372e-06,  -8.27847694e-06,  -4.07986118e-06,\n",
       "        -8.24710465e-06,  -7.82065868e-06,  -7.45252990e-06,\n",
       "        -7.98107626e-06,  -8.10259384e-06,  -6.87224608e-06,\n",
       "        -8.19030464e-06,  -7.54535508e-06,  -7.61884767e-06,\n",
       "        -8.28533450e-06,  -5.66417030e-06,  -8.27846934e-06,\n",
       "        -7.82074082e-06,  -7.45773482e-06,  -7.96250046e-06,\n",
       "        -7.93295755e-06,  -6.72493401e-06,  -8.20528277e-06,\n",
       "        -7.55153264e-06,  -7.59869527e-06,  -8.25587756e-06,\n",
       "        -6.00345339e-06,  -8.10494676e-06,  -7.89179650e-06,\n",
       "        -7.44668719e-06,  -7.90319001e-06,  -8.19740242e-06,\n",
       "        -6.71824873e-06,  -8.24413653e-06,  -7.56873743e-06,\n",
       "        -7.59498511e-06,  -8.23968163e-06,  -5.93029362e-06,\n",
       "        -8.19398282e-06,  -7.90162122e-06,  -7.45076329e-06,\n",
       "        -7.88535702e-06,  -8.19532671e-06,  -5.37886206e-06,\n",
       "        -8.25488052e-06,  -7.61474105e-06,  -7.54385337e-06,\n",
       "        -8.22371906e-06,  -7.03874334e-06,  -8.10704504e-06,\n",
       "        -7.94256124e-06,  -7.44995245e-06,  -7.84907007e-06,\n",
       "        -8.17197645e-06,  -5.76612982e-06,  -8.27430757e-06,\n",
       "        -7.61359078e-06,  -7.54789478e-06,  -8.18071801e-06,\n",
       "        -6.79482978e-06,  -7.89834801e-06,  -7.98810624e-06,\n",
       "        -7.45933153e-06,  -7.80001588e-06,  -8.29878111e-06,\n",
       "        -4.93100824e-06,  -8.29105694e-06,  -7.65297525e-06,\n",
       "        -7.51558971e-06,  -8.16797379e-06,  -7.27807324e-06,\n",
       "        -8.04840769e-06,  -8.00986465e-06,  -7.46253304e-06,\n",
       "        -7.79237136e-06,  -8.24202407e-06,  -3.75306081e-06,\n",
       "        -8.28424804e-06,  -7.68889588e-06,  -7.49960316e-06,\n",
       "        -8.11978855e-06,  -7.63887731e-06,  -7.67202986e-06,\n",
       "        -8.05971945e-06,  -7.47369812e-06,  -7.73936361e-06,\n",
       "        -8.30292904e-06,  -4.42556300e-06,  -8.31877724e-06,\n",
       "        -7.69394233e-06,  -7.49353562e-06,  -8.10193762e-06,\n",
       "        -7.38039010e-06,  -7.68792153e-06,  -8.08024202e-06,\n",
       "        -7.48842778e-06,  -7.70885492e-06,  -8.29970554e-06,\n",
       "        -3.64339805e-06,  -8.25646330e-06,  -7.75321580e-06,\n",
       "        -7.47347413e-06,  -8.05665665e-06,  -7.90786076e-06,\n",
       "        -7.67722639e-06,  -8.12446432e-06,  -7.48931045e-06,\n",
       "        -7.70290546e-06,  -8.28134235e-06,  -3.79002536e-06,\n",
       "        -8.29959511e-06,  -7.76857808e-06,  -7.46519397e-06,\n",
       "        -8.02327186e-06,  -7.89498843e-06,  -6.97500953e-06,\n",
       "        -8.15245256e-06,  -7.53026775e-06,  -7.64102720e-06,\n",
       "        -8.30143967e-06,  -5.23227559e-06,  -8.26570711e-06,\n",
       "        -7.79244174e-06,  -7.45905735e-06,  -7.99642886e-06,\n",
       "        -7.89724339e-06,  -7.31324797e-06,  -8.18150035e-06,\n",
       "        -7.52149741e-06,  -7.64094909e-06,  -8.27079652e-06,\n",
       "        -4.82610976e-06,  -8.19160481e-06,  -7.85555859e-06,\n",
       "        -7.45189773e-06,  -7.94059943e-06,  -8.16626346e-06,\n",
       "        -6.75412331e-06,  -8.21531716e-06,  -7.55700003e-06,\n",
       "        -7.60733910e-06,  -8.26750288e-06,  -5.95743232e-06,\n",
       "        -8.26204400e-06,  -7.85631063e-06,  -7.44972354e-06,\n",
       "        -7.93444805e-06,  -8.04241851e-06,  -6.19370938e-06,\n",
       "        -8.22827969e-06,  -7.58141673e-06,  -7.56793691e-06,\n",
       "        -8.23990981e-06,  -6.55599031e-06,  -8.05763690e-06,\n",
       "        -7.91590667e-06,  -7.45111540e-06,  -7.86941819e-06,\n",
       "        -8.20691506e-06])"
      ]
     },
     "execution_count": 452,
     "metadata": {},
     "output_type": "execute_result"
    }
   ],
   "source": [
    "Hunscaled-H0+f1(0, sim)*p1.mjac/p1.Mjac*2*HKep(p2)"
   ]
  },
  {
   "cell_type": "code",
   "execution_count": null,
   "metadata": {
    "collapsed": true
   },
   "outputs": [],
   "source": []
  }
 ],
 "metadata": {
  "kernelspec": {
   "display_name": "Python 3",
   "language": "python",
   "name": "python3"
  },
  "language_info": {
   "codemirror_mode": {
    "name": "ipython",
    "version": 3
   },
   "file_extension": ".py",
   "mimetype": "text/x-python",
   "name": "python",
   "nbconvert_exporter": "python",
   "pygments_lexer": "ipython3",
   "version": "3.5.1"
  }
 },
 "nbformat": 4,
 "nbformat_minor": 0
}
