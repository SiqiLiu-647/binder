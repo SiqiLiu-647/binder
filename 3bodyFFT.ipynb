{
 "cells": [
  {
   "cell_type": "code",
   "execution_count": 1,
   "metadata": {
    "collapsed": false
   },
   "outputs": [],
   "source": [
    "from sympy import diff, lambdify, symbols, sqrt, cos\n",
    "import numpy as np\n",
    "import rebound\n",
    "from scipy.integrate import odeint\n",
    "from sympy import init_printing\n",
    "init_printing()\n",
    "%matplotlib inline\n",
    "import matplotlib.pyplot as plt\n",
    "import ipywidgets as widgets\n",
    "from ipywidgets import FloatSlider"
   ]
  },
  {
   "cell_type": "code",
   "execution_count": 2,
   "metadata": {
    "collapsed": false
   },
   "outputs": [],
   "source": [
    "m, m1, M1, mu1, mu2, Lambda1, Lambda2, lambda1, lambda2, P1, P2, p1, p2, alpha = symbols(\"m, m1, M1, mu1, mu2, Lambda1, Lambda2, lambda1, lambda2, P1, P2, p1, p2, alpha\")\n",
    "J1, J2, Gamma1, Gamma2, phi1, phi2 = symbols(\"J1, J2, Gamma1, Gamma2, phi1, phi2\")\n",
    "f27 = -0.46 - 0.802*m\n",
    "f31 = 0.87 + 0.802*m\n",
    "H = -mu1/(2.*Lambda1**2) - mu2/(2.*Lambda2**2) - m1/M1*mu2/Lambda2**2*(f27*sqrt(2.*P1/Lambda1)*cos((m+1)*lambda2 - m*lambda1 + p1) + f31*sqrt(2.*P2/Lambda2)*cos((m+1)*lambda2 - m*lambda1 + p2))\n",
    "H2 = H\n",
    "H2 = H2.subs(P1, Gamma1)\n",
    "H2 = H2.subs(P2, Gamma2)\n",
    "H2 = H2.subs((m+1)*lambda2 - m*lambda1 + p1, phi1)\n",
    "H2 = H2.subs((m+1)*lambda2 - m*lambda1 + p2, phi2)\n",
    "H2 = H2.subs(Lambda1, J1 - m*(Gamma1 + Gamma2))\n",
    "H2 = H2.subs(Lambda2, J2 + (m+1)*(Gamma1 + Gamma2))\n",
    "\n",
    "var = (mu1, J1, m, mu2, J2, m1, M1, phi1, phi2, Gamma1, Gamma2)\n",
    "Hamiltonian = lambdify(var, H2, 'numpy')\n",
    "\n",
    "def mjac(self):\n",
    "    Mint = 0\n",
    "    for i in range(self.index):\n",
    "        Mint += self._sim.contents.particles[i].m\n",
    "    return Mint*self.m/(Mint+self.m)\n",
    "\n",
    "def Mjac(self):\n",
    "    Mint = 0\n",
    "    for i in range(self.index):\n",
    "        Mint += self._sim.contents.particles[i].m\n",
    "    return (Mint+self.m)/Mint*self._sim.contents.particles[0].m\n",
    "\n",
    "def Lambda(self):\n",
    "    return self.mjac*np.sqrt(self._sim.contents.G*self.Mjac*self.a)\n",
    "\n",
    "def Gamma(self):\n",
    "    return self.Lambda*(1.-np.sqrt(1.-self.e**2))\n",
    "\n",
    "def J(self):\n",
    "    if self.hash == 1:\n",
    "        return self.Lambda + m*(self._sim.contents.particles[1].Gamma + self._sim.contents.particles[1].Gamma)\n",
    "    if self.hash == 2:\n",
    "        return self.Lambda - (m+1)*(self._sim.contents.particles[1].Gamma + self._sim.contents.particles[1].Gamma)\n",
    "    \n",
    "def mu(self):\n",
    "    return self._sim.contents.G**2*self.Mjac**2*self.mjac**3\n",
    "\n",
    "def phi(self):\n",
    "    return (m+1)*self._sim.contents.particles[2].l - m*self._sim.contents.particles[1].l - self.pomega\n",
    "\n",
    "rebound.Particle.mjac = property(mjac)\n",
    "rebound.Particle.Mjac = property(Mjac)\n",
    "rebound.Particle.Lambda = property(Lambda)\n",
    "rebound.Particle.Gamma = property(Gamma)\n",
    "rebound.Particle.J = property(J)\n",
    "rebound.Particle.mu = property(mu)\n",
    "rebound.Particle.phi = property(phi)"
   ]
  },
  {
   "cell_type": "code",
   "execution_count": 27,
   "metadata": {
    "collapsed": true
   },
   "outputs": [],
   "source": [
    "m=2. # m-value for resonance, i.e. resonance is m+1:m\n",
    "e0 = 1.e-3 # initial eccentricity of planets\n",
    "Norbits = 10000 # number of inner planet orbits to integrate for\n",
    "Nout = 10000 # number of output points"
   ]
  },
  {
   "cell_type": "code",
   "execution_count": 49,
   "metadata": {
    "collapsed": false
   },
   "outputs": [],
   "source": [
    "sim = rebound.Simulation()\n",
    "sim.G = 4*np.pi**2\n",
    "sim.add(m=1.)\n",
    "sim.add(m=1.e-4, e=e0, P=1.)\n",
    "sim.add(m=1.e-4, e=e0, P=(m+1)/m)\n",
    "sim.move_to_com()\n",
    "ps = sim.particles\n",
    "ps[1].hash = 1\n",
    "ps[2].hash = 2\n",
    "\n",
    "H0 = Hamiltonian(ps[1].mu, ps[1].J, m, ps[2].mu, ps[2].J, ps[1].mjac, ps[1].Mjac, ps[1].phi, ps[2].phi, ps[1].Gamma, ps[2].Gamma)\n",
    "\n",
    "tmax = Norbits*sim.particles[1].P\n",
    "times = np.linspace(0, tmax, Nout, endpoint=False)\n",
    "\n",
    "Herr, H = np.zeros(Nout), np.zeros(Nout)\n",
    "for i, time in enumerate(times):\n",
    "    sim.integrate(time)\n",
    "    H[i] = Hamiltonian(ps[1].mu, ps[1].J, m, ps[2].mu, ps[2].J, ps[1].mjac, ps[1].Mjac, ps[1].phi, ps[2].phi, ps[1].Gamma, ps[2].Gamma)\n",
    "    Herr[i] = np.abs((H[i] - H0)/H0)"
   ]
  },
  {
   "cell_type": "code",
   "execution_count": 53,
   "metadata": {
    "collapsed": false
   },
   "outputs": [
    {
     "data": {
      "image/png": "[encoded data removed]",
      "text/plain": [
       "<matplotlib.figure.Figure at 0x11401c080>"
      ]
     },
     "metadata": {},
     "output_type": "display_data"
    }
   ],
   "source": [
    "fig, ax = plt.subplots()\n",
    "ax.plot(times, Herr)\n",
    "ax.set_yscale('log')"
   ]
  },
  {
   "cell_type": "code",
   "execution_count": 52,
   "metadata": {
    "collapsed": false
   },
   "outputs": [
    {
     "data": {
      "text/plain": [
       "array([-0.00348014, -0.00348087, -0.00348087, ..., -0.0034809 ,\n",
       "       -0.00348094, -0.00348078])"
      ]
     },
     "execution_count": 52,
     "metadata": {},
     "output_type": "execute_result"
    }
   ],
   "source": [
    "H"
   ]
  },
  {
   "cell_type": "code",
   "execution_count": 35,
   "metadata": {
    "collapsed": false
   },
   "outputs": [
    {
     "name": "stdout",
     "output_type": "stream",
     "text": [
      "nyq = 0.4999999999999999\n"
     ]
    },
    {
     "name": "stderr",
     "output_type": "stream",
     "text": [
      "/Users/dtamayo/miniconda2/envs/p3/lib/python3.5/site-packages/ipykernel/__main__.py:11: DeprecationWarning: using a non-integer number instead of an integer will result in an error in the future\n"
     ]
    },
    {
     "data": {
      "image/png": "[encoded data removed]",
      "text/plain": [
       "<matplotlib.figure.Figure at 0x113d96908>"
      ]
     },
     "metadata": {},
     "output_type": "display_data"
    }
   ],
   "source": [
    "from scipy.fftpack import fft\n",
    "\n",
    "T = tmax/Nout # sample spacing\n",
    "nyq= 1./(2.*T) # Nyquist freq\n",
    "print(\"nyq = {0}\".format(nyq))\n",
    "from scipy.signal import kaiser\n",
    "w = kaiser(Nout, 14)\n",
    "yf = fft(H*w)\n",
    "xf = np.linspace(0., nyq, Nout/2)\n",
    "fig, ax = plt.subplots()\n",
    "ax.plot(xf[1:], np.abs(yf[1:Nout/2]))\n",
    "ax.set_yscale('log')\n",
    "ax.set_xscale('log')"
   ]
  },
  {
   "cell_type": "code",
   "execution_count": 58,
   "metadata": {
    "collapsed": true
   },
   "outputs": [],
   "source": [
    "from scipy.signal import butter, lfilter\n",
    "def butter_bandpass(lowcut, highcut, fs, order=5):\n",
    "    nyq = 0.5 * fs\n",
    "    low = lowcut / nyq\n",
    "    high = highcut / nyq\n",
    "    b, a = butter(order, [low, high], btype='band')\n",
    "    return b, a\n",
    "\n",
    "\n",
    "def butter_bandpass_filter(data, lowcut, highcut, fs, order=5):\n",
    "    b, a = butter_bandpass(lowcut, highcut, fs, order=order)\n",
    "    y = lfilter(b, a, data)\n",
    "    return y\n",
    "\n",
    "def bandpass(lowcut, highcut):\n",
    "    fs = Nout/tmax\n",
    "    Havg = butter_bandpass_filter(H, lowcut, highcut, fs)\n",
    "    Herravg = np.abs((Havg-Havg[0])/Havg[0])\n",
    "    fig, ax = plt.subplots()\n",
    "    #ax.plot(times, Hunscaled+4.071e-3)\n",
    "    ax.plot(times[4500:], Havg[4500:])\n",
    "    fig.show()\n",
    "    #ax.plot(times, Hints)\n",
    "    ax.set_yscale('log')"
   ]
  },
  {
   "cell_type": "code",
   "execution_count": 61,
   "metadata": {
    "collapsed": false
   },
   "outputs": [
    {
     "data": {
      "image/png": "[encoded data removed]",
      "text/plain": [
       "<matplotlib.figure.Figure at 0x10f489128>"
      ]
     },
     "metadata": {},
     "output_type": "display_data"
    }
   ],
   "source": [
    "widgets.interact(bandpass, lowcut=(0,nyq, 0.01), highcut=(0,nyq,0.01))"
   ]
  },
  {
   "cell_type": "code",
   "execution_count": 42,
   "metadata": {
    "collapsed": true
   },
   "outputs": [],
   "source": [
    "fs = Nout/tmax\n",
    "lowcut=0.01\n",
    "highcut=0.05\n",
    "Havg = butter_bandpass_filter(H, lowcut, highcut, fs)\n",
    "Herravg = np.abs((Havg-H0)/H0)"
   ]
  },
  {
   "cell_type": "code",
   "execution_count": 43,
   "metadata": {
    "collapsed": false
   },
   "outputs": [
    {
     "data": {
      "text/plain": [
       "array([ 0.9999786 ,  0.99978397,  0.99891946, ...,  1.00001913,\n",
       "        1.00001871,  1.00001824])"
      ]
     },
     "execution_count": 43,
     "metadata": {},
     "output_type": "execute_result"
    }
   ],
   "source": [
    "Herravg"
   ]
  },
  {
   "cell_type": "code",
   "execution_count": 44,
   "metadata": {
    "collapsed": false
   },
   "outputs": [
    {
     "data": {
      "text/plain": [
       "array([ -7.44615695e-08,  -7.51801549e-07,  -3.76041636e-06, ...,\n",
       "         6.65869953e-08,   6.50977498e-08,   6.34715557e-08])"
      ]
     },
     "execution_count": 44,
     "metadata": {},
     "output_type": "execute_result"
    }
   ],
   "source": [
    "Havg"
   ]
  },
  {
   "cell_type": "code",
   "execution_count": 45,
   "metadata": {
    "collapsed": false
   },
   "outputs": [
    {
     "data": {
      "image/png": "[encoded data removed]",
      "text/latex": [
       "$$-0.00348013836208$$"
      ],
      "text/plain": [
       "-0.00348013836208"
      ]
     },
     "execution_count": 45,
     "metadata": {},
     "output_type": "execute_result"
    }
   ],
   "source": [
    "H0"
   ]
  },
  {
   "cell_type": "code",
   "execution_count": null,
   "metadata": {
    "collapsed": true
   },
   "outputs": [],
   "source": []
  }
 ],
 "metadata": {
  "kernelspec": {
   "display_name": "Python 3",
   "language": "python",
   "name": "python3"
  },
  "language_info": {
   "codemirror_mode": {
    "name": "ipython",
    "version": 3
   },
   "file_extension": ".py",
   "mimetype": "text/x-python",
   "name": "python",
   "nbconvert_exporter": "python",
   "pygments_lexer": "ipython3",
   "version": "3.5.1"
  }
 },
 "nbformat": 4,
 "nbformat_minor": 0
}
