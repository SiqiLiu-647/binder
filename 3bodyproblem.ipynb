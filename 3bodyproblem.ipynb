{
 "cells": [
  {
   "cell_type": "code",
   "execution_count": 57,
   "metadata": {
    "collapsed": false
   },
   "outputs": [],
   "source": [
    "%matplotlib inline\n",
    "import rebound\n",
    "import numpy as np\n",
    "import matplotlib.pyplot as plt\n",
    "from ipywidgets import interact\n",
    "import scipy.integrate as integrate\n",
    "import pandas as pd"
   ]
  },
  {
   "cell_type": "code",
   "execution_count": 58,
   "metadata": {
    "collapsed": true
   },
   "outputs": [],
   "source": [
    "m=2.\n",
    "sim = rebound.Simulation()\n",
    "sim.add(m=3.)\n",
    "sim.add(m=1.e-5, e=0.001, P=2.)\n",
    "sim.add(m=1.e-5, e=0.001, P=(m+1)/m*2.)\n",
    "sim.move_to_com()\n",
    "ps = sim.particles"
   ]
  },
  {
   "cell_type": "code",
   "execution_count": 59,
   "metadata": {
    "collapsed": false
   },
   "outputs": [],
   "source": [
    "def mjac(self):\n",
    "    Mint = 0\n",
    "    for i in range(self.index):\n",
    "        Mint += self._sim.contents.particles[i].m\n",
    "    return Mint*self.m/(Mint+self.m)\n",
    "\n",
    "def Mjac(self):\n",
    "    Mint = 0\n",
    "    for i in range(self.index):\n",
    "        Mint += self._sim.contents.particles[i].m\n",
    "    return (Mint+self.m)/Mint*self._sim.contents.particles[0].m\n",
    "\n",
    "def Lambda(self):\n",
    "    return self.mjac*np.sqrt(self._sim.contents.G*self.Mjac*self.a)\n",
    "\n",
    "def Gamma(self):\n",
    "    return self.Lambda*(1.-np.sqrt(1.-self.e**2))\n",
    "\n",
    "rebound.Particle.mjac = property(mjac)\n",
    "rebound.Particle.Mjac = property(Mjac)\n",
    "rebound.Particle.Lambda = property(Lambda)\n",
    "rebound.Particle.Gamma = property(Gamma)"
   ]
  },
  {
   "cell_type": "code",
   "execution_count": 60,
   "metadata": {
    "collapsed": true
   },
   "outputs": [],
   "source": [
    "def HKep(p):\n",
    "    return -p.mjac**3*(sim.G*p.Mjac)**2/(2.*p.Lambda**2)\n",
    "def HintAvg(sim):\n",
    "    p1 = sim.particles[1]\n",
    "    p2 = sim.particles[2]\n",
    "    G = sim.G\n",
    "    Hint = 0\n",
    "    #Hint += f1(0, sim)\n",
    "    Hint += f27(m+1, sim)*np.sqrt(2*p1.Gamma/p1.Lambda)*np.cos((m+1)*p2.l-m*p1.l-p1.pomega)\n",
    "    Hint += f31(m+1, sim)*np.sqrt(2*p2.Gamma/p2.Lambda)*np.cos((m+1)*p2.l-m*p1.l-p2.pomega)\n",
    "    return Hint*p1.mjac/p1.Mjac*2*HKep(p2)\n",
    "def H(sim):\n",
    "    return HKep(sim.particles[1]) + HKep(sim.particles[2])# + HintAvg(sim)\n",
    "def f1(j, sim):\n",
    "    alpha = sim.particles[1].a/sim.particles[2].a\n",
    "    return integrate.quad(lambda x: np.cos(j*x)/np.sqrt(1.-2*alpha*np.cos(x)+alpha**2), 0, 2*np.pi)[0]/np.pi\n",
    "def f27(j, sim):\n",
    "    return -0.46-0.802*(j-1)\n",
    "def f31(j, sim):\n",
    "    return 0.87+0.802*(j-1)"
   ]
  },
  {
   "cell_type": "code",
   "execution_count": 61,
   "metadata": {
    "collapsed": false
   },
   "outputs": [],
   "source": [
    "Norbits = 5000\n",
    "Nout = 10000\n",
    "tmax = Norbits*sim.particles[2].P\n",
    "times = np.linspace(0, tmax, Nout, endpoint=False)\n",
    "Hs, Hunscaled = np.zeros(Nout), np.zeros(Nout)\n",
    "Hints = np.zeros(Nout)\n",
    "a1, a2 = np.zeros(Nout), np.zeros(Nout)\n",
    "e1, e2 = np.zeros(Nout), np.zeros(Nout)\n",
    "po1, po2 = np.zeros(Nout), np.zeros(Nout)\n",
    "H0 = H(sim)\n",
    "p1 = sim.particles[1]\n",
    "p2 = sim.particles[2]\n",
    "a10 = p1.a\n",
    "a20 = p2.a\n",
    "e10 = p1.e\n",
    "e20 = p2.e\n",
    "for i, time in enumerate(times):\n",
    "    sim.integrate(time)\n",
    "    Hs[i] = np.abs((H(sim) - H0)/H0)\n",
    "    Hints[i] = HintAvg(sim)\n",
    "    Hunscaled[i] = H(sim)\n",
    "    a1[i] = np.abs((p1.a - a10)/a10)\n",
    "    a2[i] = np.abs((p2.a - a20)/a20)\n",
    "    e1[i] = p1.e#np.abs((p1.e - e10)/e10)\n",
    "    e2[i] = p2.e#np.abs((p2.e - e20)/e20)\n",
    "    po1[i] = p1.pomega\n",
    "    po2[i] = p2.pomega"
   ]
  },
  {
   "cell_type": "code",
   "execution_count": 62,
   "metadata": {
    "collapsed": true
   },
   "outputs": [],
   "source": [
    "from scipy.signal import butter, lfilter\n",
    "def butter_bandpass(lowcut, highcut, fs, order=5):\n",
    "    nyq = 0.5 * fs\n",
    "    low = lowcut / nyq\n",
    "    high = highcut / nyq\n",
    "    b, a = butter(order, [low, high], btype='band')\n",
    "    return b, a\n",
    "\n",
    "\n",
    "def butter_bandpass_filter(data, lowcut, highcut, fs, order=5):\n",
    "    b, a = butter_bandpass(lowcut, highcut, fs, order=order)\n",
    "    y = lfilter(b, a, data)\n",
    "    return y"
   ]
  },
  {
   "cell_type": "code",
   "execution_count": 63,
   "metadata": {
    "collapsed": false
   },
   "outputs": [
    {
     "name": "stdout",
     "output_type": "stream",
     "text": [
      "nyq = 0.3333333333333334\n"
     ]
    },
    {
     "name": "stderr",
     "output_type": "stream",
     "text": [
      "/Users/dtamayo/miniconda2/envs/p3/lib/python3.5/site-packages/ipykernel/__main__.py:11: DeprecationWarning: using a non-integer number instead of an integer will result in an error in the future\n"
     ]
    },
    {
     "data": {
      "image/png": "[encoded data removed]",
      "text/plain": [
       "<matplotlib.figure.Figure at 0x11498b588>"
      ]
     },
     "metadata": {},
     "output_type": "display_data"
    }
   ],
   "source": [
    "from scipy.fftpack import fft\n",
    "\n",
    "T = tmax/Nout # sample spacing\n",
    "nyq= 1./(2.*T) # Nyquist freq\n",
    "print(\"nyq = {0}\".format(nyq))\n",
    "from scipy.signal import kaiser\n",
    "w = kaiser(Nout, 14)\n",
    "yf = fft(Hunscaled*w)\n",
    "xf = np.linspace(0., nyq, Nout/2)\n",
    "fig, ax = plt.subplots()\n",
    "ax.plot(xf[1:], np.abs(yf[1:Nout/2]))\n",
    "ax.set_yscale('log')\n",
    "ax.set_xscale('log')"
   ]
  },
  {
   "cell_type": "code",
   "execution_count": 64,
   "metadata": {
    "collapsed": false
   },
   "outputs": [
    {
     "data": {
      "text/plain": [
       "[<matplotlib.lines.Line2D at 0x114987cc0>]"
      ]
     },
     "execution_count": 64,
     "metadata": {},
     "output_type": "execute_result"
    },
    {
     "data": {
      "image/png": "[encoded data removed]",
      "text/plain": [
       "<matplotlib.figure.Figure at 0x1155a7860>"
      ]
     },
     "metadata": {},
     "output_type": "display_data"
    }
   ],
   "source": [
    "fs = Nout/tmax\n",
    "lowcut = 0.001#1/sim.particles[1].P/4\n",
    "highcut = 0.1\n",
    "#print(\"Cutting frequencies higher than {0}\".format(cutoff))\n",
    "Havg = butter_bandpass_filter(Hunscaled, lowcut, highcut, fs)\n",
    "fig, ax = plt.subplots()\n",
    "#ax.plot(times, Hunscaled+4.071e-3)\n",
    "ax.plot(times[4500:], Havg[4500:])\n",
    "ax.plot(times, Hints)\n",
    "#ax.set_yscale('log')"
   ]
  },
  {
   "cell_type": "code",
   "execution_count": 65,
   "metadata": {
    "collapsed": false
   },
   "outputs": [
    {
     "data": {
      "text/plain": [
       "0.5001406522221177"
      ]
     },
     "execution_count": 65,
     "metadata": {},
     "output_type": "execute_result"
    }
   ],
   "source": [
    "1/sim.particles[1].P"
   ]
  },
  {
   "cell_type": "code",
   "execution_count": 66,
   "metadata": {
    "collapsed": false
   },
   "outputs": [
    {
     "data": {
      "text/plain": [
       "-2.7891475778203061e-10"
      ]
     },
     "execution_count": 66,
     "metadata": {},
     "output_type": "execute_result"
    }
   ],
   "source": [
    "f1(0, sim)*p1.mjac/p1.Mjac*2*HKep(p2)"
   ]
  },
  {
   "cell_type": "code",
   "execution_count": 67,
   "metadata": {
    "collapsed": false
   },
   "outputs": [
    {
     "data": {
      "text/plain": [
       "-1.7021197918978612e-05"
      ]
     },
     "execution_count": 67,
     "metadata": {},
     "output_type": "execute_result"
    }
   ],
   "source": [
    "HKep(p2)"
   ]
  },
  {
   "cell_type": "code",
   "execution_count": null,
   "metadata": {
    "collapsed": true
   },
   "outputs": [],
   "source": []
  }
 ],
 "metadata": {
  "kernelspec": {
   "display_name": "Python 3",
   "language": "python",
   "name": "python3"
  },
  "language_info": {
   "codemirror_mode": {
    "name": "ipython",
    "version": 3
   },
   "file_extension": ".py",
   "mimetype": "text/x-python",
   "name": "python",
   "nbconvert_exporter": "python",
   "pygments_lexer": "ipython3",
   "version": "3.5.1"
  }
 },
 "nbformat": 4,
 "nbformat_minor": 0
}
